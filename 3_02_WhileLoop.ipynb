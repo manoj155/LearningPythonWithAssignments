{
 "cells": [
  {
   "cell_type": "code",
   "execution_count": 1,
   "id": "de63a638-e8cd-4cdd-8f6f-e006c40eddb9",
   "metadata": {},
   "outputs": [
    {
     "name": "stdout",
     "output_type": "stream",
     "text": [
      "1\n",
      "2\n",
      "3\n",
      "4\n",
      "5\n",
      "6\n",
      "7\n",
      "8\n",
      "9\n",
      "10\n"
     ]
    }
   ],
   "source": [
    "a = 1\n",
    "\n",
    "while a<=10:\n",
    "    print(a)\n",
    "    a+=1"
   ]
  },
  {
   "cell_type": "code",
   "execution_count": 2,
   "id": "6ed1e3e0-10de-4994-aa0c-b8cef3b45cb9",
   "metadata": {},
   "outputs": [],
   "source": [
    "#sum up the number till some point"
   ]
  },
  {
   "cell_type": "code",
   "execution_count": 4,
   "id": "dfc19306-565f-4ad6-89b3-348c4946236e",
   "metadata": {},
   "outputs": [
    {
     "name": "stdin",
     "output_type": "stream",
     "text": [
      "Enter your limit 5\n"
     ]
    },
    {
     "name": "stdout",
     "output_type": "stream",
     "text": [
      "15\n"
     ]
    }
   ],
   "source": [
    "n = int(input(\"Enter your limit\"))\n",
    "\n",
    "starting_point = 0\n",
    "counter = 1\n",
    "\n",
    "while counter<=n:\n",
    "    starting_point += counter\n",
    "    counter+=1\n",
    "    \n",
    "print(starting_point)"
   ]
  },
  {
   "cell_type": "code",
   "execution_count": 5,
   "id": "3ade99d8-649f-436f-8bf4-86aa1d7b3eaf",
   "metadata": {},
   "outputs": [
    {
     "name": "stdin",
     "output_type": "stream",
     "text": [
      "enter your number:  5\n"
     ]
    },
    {
     "name": "stdout",
     "output_type": "stream",
     "text": [
      "120\n"
     ]
    }
   ],
   "source": [
    "number = int(input(\"enter your number: \"))\n",
    "\n",
    "factorial = 1\n",
    "\n",
    "while number>0:\n",
    "    factorial *= number\n",
    "    number -= 1\n",
    "    \n",
    "print(factorial)"
   ]
  },
  {
   "cell_type": "code",
   "execution_count": 6,
   "id": "0d5eb45f-5fd1-40f7-bd10-1111a7fd5b01",
   "metadata": {},
   "outputs": [],
   "source": [
    "#Fibonacci series"
   ]
  },
  {
   "cell_type": "code",
   "execution_count": 7,
   "id": "b4d627c1-f8ca-43c5-8609-3f520d1ccc4d",
   "metadata": {},
   "outputs": [
    {
     "name": "stdin",
     "output_type": "stream",
     "text": [
      "Enter the number you are looking for  10\n"
     ]
    },
    {
     "name": "stdout",
     "output_type": "stream",
     "text": [
      "0\n",
      "1\n",
      "1\n",
      "2\n",
      "3\n",
      "5\n",
      "8\n",
      "13\n",
      "21\n",
      "34\n"
     ]
    }
   ],
   "source": [
    "number = int(input(\"Enter the number you are looking for \"))\n",
    "\n",
    "a , b = 0 , 1\n",
    "counter = 0\n",
    "\n",
    "while counter < number:\n",
    "    print(a)\n",
    "    c = a + b\n",
    "    a = b\n",
    "    b = c\n",
    "    counter += 1\n",
    "\n"
   ]
  },
  {
   "cell_type": "code",
   "execution_count": 8,
   "id": "b42ec0b8-2999-4498-bb8e-70eeb85a8f52",
   "metadata": {},
   "outputs": [],
   "source": [
    "#string reverse using while"
   ]
  },
  {
   "cell_type": "code",
   "execution_count": 9,
   "id": "c56dbea6-644c-4abb-8ff8-6da4b6861a1d",
   "metadata": {},
   "outputs": [
    {
     "name": "stdin",
     "output_type": "stream",
     "text": [
      "Enter your string for reversal  Manoj\n"
     ]
    },
    {
     "name": "stdout",
     "output_type": "stream",
     "text": [
      "jonaM\n"
     ]
    }
   ],
   "source": [
    "word = input(\"Enter your string for reversal \")\n",
    "\n",
    "reverse = \"\"\n",
    "length = len(word)\n",
    "\n",
    "while length>0:\n",
    "    reverse = reverse + word[length-1]\n",
    "    length-=1\n",
    "    \n",
    "print(reverse)\n"
   ]
  },
  {
   "cell_type": "code",
   "execution_count": 10,
   "id": "d952b732-3e08-4ef4-ab3f-1104c59a757d",
   "metadata": {},
   "outputs": [],
   "source": [
    "#print table of number"
   ]
  },
  {
   "cell_type": "code",
   "execution_count": 12,
   "id": "10668d0a-1690-4cd8-9dff-e36f6e3c8a44",
   "metadata": {},
   "outputs": [
    {
     "name": "stdin",
     "output_type": "stream",
     "text": [
      "enter your number  2\n"
     ]
    },
    {
     "name": "stdout",
     "output_type": "stream",
     "text": [
      "2  *  1  =  2\n",
      "2  *  2  =  4\n",
      "2  *  3  =  6\n",
      "2  *  4  =  8\n",
      "2  *  5  =  10\n",
      "2  *  6  =  12\n",
      "2  *  7  =  14\n",
      "2  *  8  =  16\n",
      "2  *  9  =  18\n",
      "2  *  10  =  20\n"
     ]
    }
   ],
   "source": [
    "n = int(input(\"enter your number \"))\n",
    "i=1\n",
    "\n",
    "while i<=10:\n",
    "    result = n * i\n",
    "    print(n, \" * \", i, \" = \", result)\n",
    "    i+=1\n"
   ]
  },
  {
   "cell_type": "code",
   "execution_count": 13,
   "id": "a3605ea9-8d31-487b-bfb4-580fe6f0674b",
   "metadata": {},
   "outputs": [
    {
     "name": "stdout",
     "output_type": "stream",
     "text": [
      "1\n",
      "2\n",
      "3\n",
      "4\n",
      "This will be executed once ur while will complete execute successfully.\n"
     ]
    }
   ],
   "source": [
    "n = 5\n",
    "i = 1\n",
    "\n",
    "while i<n:\n",
    "    print(i)\n",
    "    i+=1\n",
    "else:\n",
    "    print(\"This will be executed once ur while will complete execute successfully.\")"
   ]
  },
  {
   "cell_type": "code",
   "execution_count": null,
   "id": "1559fe09-00f8-4978-a83d-9771372e01bd",
   "metadata": {},
   "outputs": [],
   "source": []
  }
 ],
 "metadata": {
  "kernelspec": {
   "display_name": "Python 3 (ipykernel)",
   "language": "python",
   "name": "python3"
  },
  "language_info": {
   "codemirror_mode": {
    "name": "ipython",
    "version": 3
   },
   "file_extension": ".py",
   "mimetype": "text/x-python",
   "name": "python",
   "nbconvert_exporter": "python",
   "pygments_lexer": "ipython3",
   "version": "3.10.8"
  }
 },
 "nbformat": 4,
 "nbformat_minor": 5
}
