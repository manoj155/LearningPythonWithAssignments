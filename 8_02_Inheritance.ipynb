{
 "cells": [
  {
   "cell_type": "code",
   "execution_count": 1,
   "id": "5c7bfb3b-0f92-4010-b1c5-3f8eb6641c6f",
   "metadata": {},
   "outputs": [],
   "source": [
    "class test:\n",
    "    def test_meth(self) :\n",
    "        return \"This is my first class\"\n",
    "    "
   ]
  },
  {
   "cell_type": "code",
   "execution_count": 2,
   "id": "353abc5e-1577-41ba-8400-02946a02a370",
   "metadata": {},
   "outputs": [],
   "source": [
    "class child_test(test):\n",
    "    pass"
   ]
  },
  {
   "cell_type": "code",
   "execution_count": 3,
   "id": "c402943b-19ea-48a1-9fc2-f070dbeafcbc",
   "metadata": {},
   "outputs": [],
   "source": [
    "child_test_obj = child_test()"
   ]
  },
  {
   "cell_type": "code",
   "execution_count": 4,
   "id": "7d2bae2c-eced-4487-98ab-8f3f5b2679a2",
   "metadata": {},
   "outputs": [
    {
     "data": {
      "text/plain": [
       "'This is my first class'"
      ]
     },
     "execution_count": 4,
     "metadata": {},
     "output_type": "execute_result"
    }
   ],
   "source": [
    "child_test_obj.test_meth()"
   ]
  },
  {
   "cell_type": "code",
   "execution_count": 5,
   "id": "b99692b1-69db-430f-bcca-0594b387d318",
   "metadata": {},
   "outputs": [],
   "source": [
    "class class1:\n",
    "    \n",
    "    def test_class1(self) :\n",
    "        return \"This is a meth from class1\""
   ]
  },
  {
   "cell_type": "code",
   "execution_count": 6,
   "id": "2ff54338-f96c-4365-a603-0c7a4049776a",
   "metadata": {},
   "outputs": [],
   "source": [
    "class class2(class1) :\n",
    "    def test_class2(self) :\n",
    "        return \"This is a meth from class2\""
   ]
  },
  {
   "cell_type": "code",
   "execution_count": 7,
   "id": "bb233a9d-4f5b-40f9-81a5-4a189ac27631",
   "metadata": {},
   "outputs": [],
   "source": [
    "class class3(class2) :\n",
    "    pass"
   ]
  },
  {
   "cell_type": "code",
   "execution_count": 8,
   "id": "db33f82f-1860-4f5f-8854-734f51c211e4",
   "metadata": {},
   "outputs": [],
   "source": [
    "obj_class3 = class3()"
   ]
  },
  {
   "cell_type": "code",
   "execution_count": 9,
   "id": "d336eb85-0287-498b-83a0-571cd874c946",
   "metadata": {},
   "outputs": [
    {
     "data": {
      "text/plain": [
       "'This is a meth from class1'"
      ]
     },
     "execution_count": 9,
     "metadata": {},
     "output_type": "execute_result"
    }
   ],
   "source": [
    "obj_class3.test_class1()"
   ]
  },
  {
   "cell_type": "code",
   "execution_count": 10,
   "id": "68037d58-9cc3-489d-bb4b-d3d6bbf7ef83",
   "metadata": {},
   "outputs": [
    {
     "data": {
      "text/plain": [
       "'This is a meth from class2'"
      ]
     },
     "execution_count": 10,
     "metadata": {},
     "output_type": "execute_result"
    }
   ],
   "source": [
    "obj_class3.test_class2()"
   ]
  },
  {
   "cell_type": "code",
   "execution_count": 15,
   "id": "35abba0f-cd53-4bda-89a2-812545186f22",
   "metadata": {},
   "outputs": [],
   "source": [
    "#Multiple inheritence"
   ]
  },
  {
   "cell_type": "code",
   "execution_count": 11,
   "id": "b6c37e1e-a276-4dd4-b3b1-35bb24aa5c40",
   "metadata": {},
   "outputs": [],
   "source": [
    "class class1 :\n",
    "    \n",
    "    def test_class1(self) :\n",
    "        return \"This is class 1\""
   ]
  },
  {
   "cell_type": "code",
   "execution_count": 12,
   "id": "f46696c8-ac76-42f4-bf2b-cb443ae36ca5",
   "metadata": {},
   "outputs": [],
   "source": [
    "class class2 :\n",
    "    \n",
    "    def test_class2(self) :\n",
    "        return \"This is class 2\""
   ]
  },
  {
   "cell_type": "code",
   "execution_count": 13,
   "id": "b3686253-1227-49ce-a09c-8a7380e35fca",
   "metadata": {},
   "outputs": [],
   "source": [
    "class class3(class1, class2):\n",
    "    pass"
   ]
  },
  {
   "cell_type": "code",
   "execution_count": 14,
   "id": "bfa8229c-c62d-4a6d-a878-26e041bf2f8d",
   "metadata": {},
   "outputs": [],
   "source": [
    "obj_class3 = class3()"
   ]
  },
  {
   "cell_type": "code",
   "execution_count": 16,
   "id": "5abe871f-7f2b-4d26-a8e2-2cf24371865d",
   "metadata": {},
   "outputs": [
    {
     "data": {
      "text/plain": [
       "'This is class 1'"
      ]
     },
     "execution_count": 16,
     "metadata": {},
     "output_type": "execute_result"
    }
   ],
   "source": [
    "obj_class3.test_class1()"
   ]
  },
  {
   "cell_type": "code",
   "execution_count": 17,
   "id": "e3e5d9b9-ab82-4d36-b8cd-5b6ced06993b",
   "metadata": {},
   "outputs": [
    {
     "data": {
      "text/plain": [
       "'This is class 2'"
      ]
     },
     "execution_count": 17,
     "metadata": {},
     "output_type": "execute_result"
    }
   ],
   "source": [
    "obj_class3.test_class2()"
   ]
  },
  {
   "cell_type": "code",
   "execution_count": null,
   "id": "9c9c7874-1e04-4b89-b55c-2c8aec88153e",
   "metadata": {},
   "outputs": [],
   "source": []
  }
 ],
 "metadata": {
  "kernelspec": {
   "display_name": "Python 3 (ipykernel)",
   "language": "python",
   "name": "python3"
  },
  "language_info": {
   "codemirror_mode": {
    "name": "ipython",
    "version": 3
   },
   "file_extension": ".py",
   "mimetype": "text/x-python",
   "name": "python",
   "nbconvert_exporter": "python",
   "pygments_lexer": "ipython3",
   "version": "3.10.8"
  }
 },
 "nbformat": 4,
 "nbformat_minor": 5
}
