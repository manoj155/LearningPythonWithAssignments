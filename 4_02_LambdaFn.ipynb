{
 "cells": [
  {
   "cell_type": "code",
   "execution_count": 1,
   "id": "67ba17c2-d3f6-4135-8e1f-108f76ea6dab",
   "metadata": {},
   "outputs": [],
   "source": [
    "n = 3\n",
    "p = 2"
   ]
  },
  {
   "cell_type": "code",
   "execution_count": 2,
   "id": "2e8ad939-1b2b-4598-8f81-3852a64240cc",
   "metadata": {},
   "outputs": [],
   "source": [
    "def test(n,p):\n",
    "    return n**p"
   ]
  },
  {
   "cell_type": "code",
   "execution_count": 3,
   "id": "76729c00-6d42-4375-94dd-04fbe2c45333",
   "metadata": {},
   "outputs": [
    {
     "data": {
      "text/plain": [
       "9"
      ]
     },
     "execution_count": 3,
     "metadata": {},
     "output_type": "execute_result"
    }
   ],
   "source": [
    "test(3,2)"
   ]
  },
  {
   "cell_type": "code",
   "execution_count": 7,
   "id": "5f9f9c19-8ffe-4811-b6bc-c45da0d7fc90",
   "metadata": {},
   "outputs": [],
   "source": [
    "#anonamous function"
   ]
  },
  {
   "cell_type": "code",
   "execution_count": 8,
   "id": "08dbf725-0809-4483-b737-4991ad312937",
   "metadata": {},
   "outputs": [],
   "source": [
    "a = lambda n,p : n**p #lambda inputs:output"
   ]
  },
  {
   "cell_type": "code",
   "execution_count": 9,
   "id": "41fa7e32-715a-4c7d-b8de-a0ad9d663e0e",
   "metadata": {},
   "outputs": [
    {
     "data": {
      "text/plain": [
       "9"
      ]
     },
     "execution_count": 9,
     "metadata": {},
     "output_type": "execute_result"
    }
   ],
   "source": [
    "a(3,2)"
   ]
  },
  {
   "cell_type": "code",
   "execution_count": 10,
   "id": "1e95ed21-d6ce-4e38-9a45-2a4d918cb577",
   "metadata": {},
   "outputs": [],
   "source": [
    "add = lambda x,y: x+y"
   ]
  },
  {
   "cell_type": "code",
   "execution_count": 11,
   "id": "f8e0591f-3df4-4780-9b58-abe52a07b07e",
   "metadata": {},
   "outputs": [
    {
     "data": {
      "text/plain": [
       "9"
      ]
     },
     "execution_count": 11,
     "metadata": {},
     "output_type": "execute_result"
    }
   ],
   "source": [
    "add(4,5)"
   ]
  },
  {
   "cell_type": "code",
   "execution_count": 12,
   "id": "c375a995-95ff-458b-baa6-78076ed208cd",
   "metadata": {},
   "outputs": [],
   "source": [
    "c_to_f = lambda c : (9/5)*c + 32"
   ]
  },
  {
   "cell_type": "code",
   "execution_count": 13,
   "id": "67e989fc-c632-4424-be8e-57406a76b410",
   "metadata": {},
   "outputs": [
    {
     "data": {
      "text/plain": [
       "113.0"
      ]
     },
     "execution_count": 13,
     "metadata": {},
     "output_type": "execute_result"
    }
   ],
   "source": [
    "c_to_f(45)"
   ]
  },
  {
   "cell_type": "code",
   "execution_count": 14,
   "id": "13dd5729-e2fe-4f3d-a2bb-e7de47456776",
   "metadata": {},
   "outputs": [],
   "source": [
    "#finding max of two no using lambda"
   ]
  },
  {
   "cell_type": "code",
   "execution_count": 15,
   "id": "02b7a3a2-8855-4ae7-b6de-d0bf34775b09",
   "metadata": {},
   "outputs": [],
   "source": [
    "find_max = lambda x,y: x if x>y else y"
   ]
  },
  {
   "cell_type": "code",
   "execution_count": 16,
   "id": "6cef6e76-75df-4fef-ae09-4e9ec2bc0bf3",
   "metadata": {},
   "outputs": [
    {
     "data": {
      "text/plain": [
       "10"
      ]
     },
     "execution_count": 16,
     "metadata": {},
     "output_type": "execute_result"
    }
   ],
   "source": [
    "find_max(5,10)"
   ]
  },
  {
   "cell_type": "code",
   "execution_count": 17,
   "id": "4e571039-351d-4670-aa22-efc9af61fe5a",
   "metadata": {},
   "outputs": [],
   "source": [
    "s = \"pwskills\"\n",
    "\n",
    "find_len = lambda s: len(s)"
   ]
  },
  {
   "cell_type": "code",
   "execution_count": 18,
   "id": "6660fa63-4973-4501-9200-b5193dabef89",
   "metadata": {},
   "outputs": [
    {
     "data": {
      "text/plain": [
       "8"
      ]
     },
     "execution_count": 18,
     "metadata": {},
     "output_type": "execute_result"
    }
   ],
   "source": [
    "find_len(s)"
   ]
  },
  {
   "cell_type": "code",
   "execution_count": null,
   "id": "af65e31d-3643-4c83-92f2-0da723f50af0",
   "metadata": {},
   "outputs": [],
   "source": []
  }
 ],
 "metadata": {
  "kernelspec": {
   "display_name": "Python 3 (ipykernel)",
   "language": "python",
   "name": "python3"
  },
  "language_info": {
   "codemirror_mode": {
    "name": "ipython",
    "version": 3
   },
   "file_extension": ".py",
   "mimetype": "text/x-python",
   "name": "python",
   "nbconvert_exporter": "python",
   "pygments_lexer": "ipython3",
   "version": "3.10.8"
  }
 },
 "nbformat": 4,
 "nbformat_minor": 5
}
