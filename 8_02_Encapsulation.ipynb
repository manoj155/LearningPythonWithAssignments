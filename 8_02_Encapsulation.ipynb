{
 "cells": [
  {
   "cell_type": "code",
   "execution_count": 1,
   "id": "066becac-af55-4323-84fc-5cc5e8ef1ad9",
   "metadata": {},
   "outputs": [],
   "source": [
    "class test :\n",
    "    \n",
    "    def __init__(self, a, b) :\n",
    "        self.a = a\n",
    "        self.b = b"
   ]
  },
  {
   "cell_type": "code",
   "execution_count": 2,
   "id": "a647c41a-bc17-4be0-bb2f-8b2aec3971ab",
   "metadata": {},
   "outputs": [],
   "source": [
    "t = test(23, 34)"
   ]
  },
  {
   "cell_type": "code",
   "execution_count": 3,
   "id": "48c39a94-165b-468c-9582-1781c0d30c43",
   "metadata": {},
   "outputs": [],
   "source": [
    "t.a = 234567"
   ]
  },
  {
   "cell_type": "code",
   "execution_count": 4,
   "id": "d1fb47b2-c6b6-4af6-8dfa-e6bd32fdc956",
   "metadata": {},
   "outputs": [
    {
     "data": {
      "text/plain": [
       "234567"
      ]
     },
     "execution_count": 4,
     "metadata": {},
     "output_type": "execute_result"
    }
   ],
   "source": [
    "t.a"
   ]
  },
  {
   "cell_type": "code",
   "execution_count": 21,
   "id": "901bfb60-49af-47a7-9551-b7d75e5bef50",
   "metadata": {},
   "outputs": [],
   "source": [
    "class car :\n",
    "    def __init__(self, year, make, model, speed) :\n",
    "        \n",
    "        self.__year = year\n",
    "        self.__make = make\n",
    "        self.__model = model\n",
    "        self.__speed = 0\n",
    "    def set_speed(self, speed):\n",
    "        self.__speed = 0 if speed<0 else speed\n",
    "    \n",
    "    def get_speed(self) :\n",
    "        return self.__speed"
   ]
  },
  {
   "cell_type": "code",
   "execution_count": 22,
   "id": "e94571dc-84d0-47e5-bbf4-eacc47840eb3",
   "metadata": {},
   "outputs": [],
   "source": [
    "c = car(2021, \"toyata\", \"inova\", 200)"
   ]
  },
  {
   "cell_type": "code",
   "execution_count": 23,
   "id": "684b73cb-d49a-4b5d-9124-96b295ad3404",
   "metadata": {},
   "outputs": [
    {
     "ename": "AttributeError",
     "evalue": "'car' object has no attribute 'year'",
     "output_type": "error",
     "traceback": [
      "\u001b[0;31m---------------------------------------------------------------------------\u001b[0m",
      "\u001b[0;31mAttributeError\u001b[0m                            Traceback (most recent call last)",
      "Cell \u001b[0;32mIn[23], line 1\u001b[0m\n\u001b[0;32m----> 1\u001b[0m \u001b[43mc\u001b[49m\u001b[38;5;241;43m.\u001b[39;49m\u001b[43myear\u001b[49m\n",
      "\u001b[0;31mAttributeError\u001b[0m: 'car' object has no attribute 'year'"
     ]
    }
   ],
   "source": [
    "c.year"
   ]
  },
  {
   "cell_type": "code",
   "execution_count": 24,
   "id": "154afa32-b399-4225-abfb-4683d486c7aa",
   "metadata": {},
   "outputs": [
    {
     "data": {
      "text/plain": [
       "2021"
      ]
     },
     "execution_count": 24,
     "metadata": {},
     "output_type": "execute_result"
    }
   ],
   "source": [
    "c._car__year"
   ]
  },
  {
   "cell_type": "code",
   "execution_count": 25,
   "id": "50e5f993-1042-48ff-9091-3b1c599b1f0d",
   "metadata": {},
   "outputs": [],
   "source": [
    "c2 = car(2000, \"toyata\", \"inova\", -1)"
   ]
  },
  {
   "cell_type": "code",
   "execution_count": 26,
   "id": "d9596fbe-8247-47f8-91c4-187435fd6d85",
   "metadata": {},
   "outputs": [
    {
     "data": {
      "text/plain": [
       "0"
      ]
     },
     "execution_count": 26,
     "metadata": {},
     "output_type": "execute_result"
    }
   ],
   "source": [
    "c2.get_speed()"
   ]
  },
  {
   "cell_type": "code",
   "execution_count": 27,
   "id": "3d2f8579-8e47-47d7-9773-fe0f9d6a37c6",
   "metadata": {},
   "outputs": [],
   "source": [
    "c2.set_speed(-100)"
   ]
  },
  {
   "cell_type": "code",
   "execution_count": 28,
   "id": "14f7c5e6-9a08-4992-89b8-d4162a2cbb25",
   "metadata": {},
   "outputs": [
    {
     "data": {
      "text/plain": [
       "0"
      ]
     },
     "execution_count": 28,
     "metadata": {},
     "output_type": "execute_result"
    }
   ],
   "source": [
    "c2.get_speed()"
   ]
  },
  {
   "cell_type": "code",
   "execution_count": 30,
   "id": "577888cb-7f9a-468d-9dbc-39889a87f1fb",
   "metadata": {},
   "outputs": [],
   "source": [
    "class bank_account :\n",
    "    def __init__(self, balance) :\n",
    "        self.__balance = balance\n",
    "        \n",
    "    def deposit(self, amount) :\n",
    "        self.__balance += amount\n",
    "        \n",
    "    def withdraw(self, amount) :\n",
    "        if self.__balance >= amount :\n",
    "            self.__balance -= amount\n",
    "            return True\n",
    "        else :\n",
    "            print(\"Insufficient balace\")\n",
    "            return False\n",
    "    def get_balace(self):\n",
    "        return self.__balance"
   ]
  },
  {
   "cell_type": "code",
   "execution_count": 31,
   "id": "89bb4395-84b1-4a45-9745-ba9f68e7f453",
   "metadata": {},
   "outputs": [],
   "source": [
    "manoj = bank_account(1000)"
   ]
  },
  {
   "cell_type": "code",
   "execution_count": 32,
   "id": "53a02b85-449b-4ae1-9eeb-392c039fa7d8",
   "metadata": {},
   "outputs": [
    {
     "data": {
      "text/plain": [
       "1000"
      ]
     },
     "execution_count": 32,
     "metadata": {},
     "output_type": "execute_result"
    }
   ],
   "source": [
    "manoj.get_balace()"
   ]
  },
  {
   "cell_type": "code",
   "execution_count": 33,
   "id": "a792d81d-93af-46a2-9867-90fe307e99bd",
   "metadata": {},
   "outputs": [],
   "source": [
    "manoj.deposit(5000)"
   ]
  },
  {
   "cell_type": "code",
   "execution_count": 35,
   "id": "65eab72a-0ca3-4b3b-83ec-00750e153420",
   "metadata": {},
   "outputs": [
    {
     "data": {
      "text/plain": [
       "6000"
      ]
     },
     "execution_count": 35,
     "metadata": {},
     "output_type": "execute_result"
    }
   ],
   "source": [
    "manoj.get_balace()"
   ]
  },
  {
   "cell_type": "code",
   "execution_count": 36,
   "id": "6cabc5f9-42d7-41bc-9db5-d809d950e81e",
   "metadata": {},
   "outputs": [
    {
     "name": "stdout",
     "output_type": "stream",
     "text": [
      "Insufficient balace\n"
     ]
    },
    {
     "data": {
      "text/plain": [
       "False"
      ]
     },
     "execution_count": 36,
     "metadata": {},
     "output_type": "execute_result"
    }
   ],
   "source": [
    "manoj.withdraw(9000)"
   ]
  },
  {
   "cell_type": "code",
   "execution_count": 37,
   "id": "34368e0b-13e9-449a-8fc9-d6142944e7ad",
   "metadata": {},
   "outputs": [
    {
     "data": {
      "text/plain": [
       "True"
      ]
     },
     "execution_count": 37,
     "metadata": {},
     "output_type": "execute_result"
    }
   ],
   "source": [
    "manoj.withdraw(2000)"
   ]
  },
  {
   "cell_type": "code",
   "execution_count": 38,
   "id": "1858a4a0-fc92-45b7-9d2a-b9142bcef219",
   "metadata": {},
   "outputs": [
    {
     "data": {
      "text/plain": [
       "4000"
      ]
     },
     "execution_count": 38,
     "metadata": {},
     "output_type": "execute_result"
    }
   ],
   "source": [
    "manoj.get_balace()"
   ]
  },
  {
   "cell_type": "code",
   "execution_count": null,
   "id": "3662ca00-a2bd-4881-9e9e-c4ea165bd058",
   "metadata": {},
   "outputs": [],
   "source": []
  }
 ],
 "metadata": {
  "kernelspec": {
   "display_name": "Python 3 (ipykernel)",
   "language": "python",
   "name": "python3"
  },
  "language_info": {
   "codemirror_mode": {
    "name": "ipython",
    "version": 3
   },
   "file_extension": ".py",
   "mimetype": "text/x-python",
   "name": "python",
   "nbconvert_exporter": "python",
   "pygments_lexer": "ipython3",
   "version": "3.10.8"
  }
 },
 "nbformat": 4,
 "nbformat_minor": 5
}
