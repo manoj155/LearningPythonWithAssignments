{
 "cells": [
  {
   "cell_type": "code",
   "execution_count": 1,
   "id": "e82efc7e-3c29-42d4-9269-c45e3d34093b",
   "metadata": {},
   "outputs": [],
   "source": [
    "class test :\n",
    "    pass"
   ]
  },
  {
   "cell_type": "code",
   "execution_count": 2,
   "id": "09950260-3f4e-480b-bf94-89940badf25c",
   "metadata": {},
   "outputs": [],
   "source": [
    "a = test()"
   ]
  },
  {
   "cell_type": "code",
   "execution_count": 3,
   "id": "77f832b8-d2f0-493e-9ea1-dd3a9cafcc40",
   "metadata": {},
   "outputs": [
    {
     "data": {
      "text/plain": [
       "__main__.test"
      ]
     },
     "execution_count": 3,
     "metadata": {},
     "output_type": "execute_result"
    }
   ],
   "source": [
    "type(a)"
   ]
  },
  {
   "cell_type": "code",
   "execution_count": 4,
   "id": "db8ade47-9a11-4a63-bf1d-70f44c598724",
   "metadata": {},
   "outputs": [
    {
     "name": "stdout",
     "output_type": "stream",
     "text": [
      "<class '__main__.test'>\n"
     ]
    }
   ],
   "source": [
    "print(type(a))"
   ]
  },
  {
   "cell_type": "code",
   "execution_count": 9,
   "id": "a8022ad4-00e1-4bc0-9334-4bd02ba571bc",
   "metadata": {},
   "outputs": [],
   "source": [
    "class pwskills :\n",
    "    def welcome_msg(self):\n",
    "        print(\"Welcome to pwskills\")"
   ]
  },
  {
   "cell_type": "code",
   "execution_count": 10,
   "id": "6721f638-9ead-4783-99df-4fe753a2320d",
   "metadata": {},
   "outputs": [],
   "source": [
    "rohan = pwskills()"
   ]
  },
  {
   "cell_type": "code",
   "execution_count": 11,
   "id": "3a820b2c-4bc0-4adf-bd4f-256d103f3f62",
   "metadata": {},
   "outputs": [
    {
     "name": "stdout",
     "output_type": "stream",
     "text": [
      "<class '__main__.pwskills'>\n"
     ]
    }
   ],
   "source": [
    "print(type(rohan))"
   ]
  },
  {
   "cell_type": "code",
   "execution_count": 12,
   "id": "95a6ad5e-27db-474a-9477-4892c20f389b",
   "metadata": {},
   "outputs": [
    {
     "name": "stdout",
     "output_type": "stream",
     "text": [
      "Welcome to pwskills\n"
     ]
    }
   ],
   "source": [
    "rohan.welcome_msg()"
   ]
  },
  {
   "cell_type": "code",
   "execution_count": 13,
   "id": "f543f324-aae5-4e00-9148-55944810df48",
   "metadata": {},
   "outputs": [],
   "source": [
    "gaurav = pwskills()"
   ]
  },
  {
   "cell_type": "code",
   "execution_count": 14,
   "id": "328851e5-9cdf-4230-85d0-d17a7ee7fee5",
   "metadata": {},
   "outputs": [
    {
     "name": "stdout",
     "output_type": "stream",
     "text": [
      "Welcome to pwskills\n"
     ]
    }
   ],
   "source": [
    "gaurav.welcome_msg()"
   ]
  },
  {
   "cell_type": "code",
   "execution_count": 15,
   "id": "9b67ea9b-ad36-400a-a0d8-431f7196cdf7",
   "metadata": {},
   "outputs": [],
   "source": [
    "class pwskills1:\n",
    "    def __init__(self, phone_number, email_id, student_id):\n",
    "        self.phone_number = phone_number\n",
    "        self.email_id = email_id\n",
    "        self.student_id = student_id\n",
    "        \n",
    "    def return_student_details(self):\n",
    "        return self.student_id, self.phone_number, self.email_id"
   ]
  },
  {
   "cell_type": "code",
   "execution_count": 16,
   "id": "07f885aa-7ad4-46dd-969a-3240932ab800",
   "metadata": {},
   "outputs": [
    {
     "ename": "TypeError",
     "evalue": "pwskills1.__init__() missing 3 required positional arguments: 'phone_number', 'email_id', and 'student_id'",
     "output_type": "error",
     "traceback": [
      "\u001b[0;31m---------------------------------------------------------------------------\u001b[0m",
      "\u001b[0;31mTypeError\u001b[0m                                 Traceback (most recent call last)",
      "Cell \u001b[0;32mIn[16], line 1\u001b[0m\n\u001b[0;32m----> 1\u001b[0m rohan \u001b[38;5;241m=\u001b[39m \u001b[43mpwskills1\u001b[49m\u001b[43m(\u001b[49m\u001b[43m)\u001b[49m\n",
      "\u001b[0;31mTypeError\u001b[0m: pwskills1.__init__() missing 3 required positional arguments: 'phone_number', 'email_id', and 'student_id'"
     ]
    }
   ],
   "source": [
    "rohan = pwskills1()"
   ]
  },
  {
   "cell_type": "code",
   "execution_count": 18,
   "id": "faefbf95-1ff4-4015-82b7-85d66225c02d",
   "metadata": {},
   "outputs": [],
   "source": [
    "rohan = pwskills1(1234567, \"rohan@123\", 101)"
   ]
  },
  {
   "cell_type": "code",
   "execution_count": 19,
   "id": "15603ed4-3b00-4d6b-aa1c-e847ec683a0f",
   "metadata": {},
   "outputs": [
    {
     "data": {
      "text/plain": [
       "(101, 1234567, 'rohan@123')"
      ]
     },
     "execution_count": 19,
     "metadata": {},
     "output_type": "execute_result"
    }
   ],
   "source": [
    "rohan.return_student_details()"
   ]
  },
  {
   "cell_type": "code",
   "execution_count": 21,
   "id": "7d998e25-ff45-4b31-91b5-82785354a245",
   "metadata": {},
   "outputs": [],
   "source": [
    "gaurav = pwskills1(9876543, \"gaurav@gmail.com\", 102)"
   ]
  },
  {
   "cell_type": "code",
   "execution_count": 22,
   "id": "a179a29c-ce37-4193-bb4a-208108552387",
   "metadata": {},
   "outputs": [
    {
     "data": {
      "text/plain": [
       "(102, 9876543, 'gaurav@gmail.com')"
      ]
     },
     "execution_count": 22,
     "metadata": {},
     "output_type": "execute_result"
    }
   ],
   "source": [
    "gaurav.return_student_details()"
   ]
  },
  {
   "cell_type": "code",
   "execution_count": 30,
   "id": "979a8bbc-ca6b-4daf-b7f8-83126ebd0709",
   "metadata": {},
   "outputs": [],
   "source": [
    "class pwskills2 :\n",
    "    def __init__(self, phone_number, email_id, student_id):\n",
    "        self.phone_number1 = phone_number\n",
    "        self.email_id1 = email_id\n",
    "        self.student_id1 = student_id\n",
    "        \n",
    "    def return_student_details(self):\n",
    "        return self.student_id1, self.phone_number1, self.email_id1"
   ]
  },
  {
   "cell_type": "code",
   "execution_count": 32,
   "id": "f911216d-1ca9-44ed-8532-a8541ba84ff7",
   "metadata": {},
   "outputs": [],
   "source": [
    "mon = pwskills2(7890521, \"mon@gmail.com\", 20)"
   ]
  },
  {
   "cell_type": "code",
   "execution_count": 26,
   "id": "c8784533-d71d-4c2a-866d-953522502f69",
   "metadata": {},
   "outputs": [
    {
     "data": {
      "text/plain": [
       "7890521"
      ]
     },
     "execution_count": 26,
     "metadata": {},
     "output_type": "execute_result"
    }
   ],
   "source": [
    "mon.phone_number1"
   ]
  },
  {
   "cell_type": "code",
   "execution_count": 27,
   "id": "fb9d2e17-4b9c-4aaf-9705-a2bea29d37ce",
   "metadata": {},
   "outputs": [
    {
     "data": {
      "text/plain": [
       "20"
      ]
     },
     "execution_count": 27,
     "metadata": {},
     "output_type": "execute_result"
    }
   ],
   "source": [
    "mon.student_id1"
   ]
  },
  {
   "cell_type": "code",
   "execution_count": 28,
   "id": "289ff405-006f-4d5a-a9db-7ea540657838",
   "metadata": {},
   "outputs": [
    {
     "data": {
      "text/plain": [
       "'mon@gmail.com'"
      ]
     },
     "execution_count": 28,
     "metadata": {},
     "output_type": "execute_result"
    }
   ],
   "source": [
    "mon.email_id1"
   ]
  },
  {
   "cell_type": "code",
   "execution_count": 29,
   "id": "c0573123-fdb0-4f9a-8c0e-733fff529a88",
   "metadata": {},
   "outputs": [
    {
     "ename": "AttributeError",
     "evalue": "'pwskills2' object has no attribute 'student_id'",
     "output_type": "error",
     "traceback": [
      "\u001b[0;31m---------------------------------------------------------------------------\u001b[0m",
      "\u001b[0;31mAttributeError\u001b[0m                            Traceback (most recent call last)",
      "Cell \u001b[0;32mIn[29], line 1\u001b[0m\n\u001b[0;32m----> 1\u001b[0m \u001b[43mmon\u001b[49m\u001b[38;5;241;43m.\u001b[39;49m\u001b[43mreturn_student_details\u001b[49m\u001b[43m(\u001b[49m\u001b[43m)\u001b[49m\n",
      "Cell \u001b[0;32mIn[23], line 8\u001b[0m, in \u001b[0;36mpwskills2.return_student_details\u001b[0;34m(self)\u001b[0m\n\u001b[1;32m      7\u001b[0m \u001b[38;5;28;01mdef\u001b[39;00m \u001b[38;5;21mreturn_student_details\u001b[39m(\u001b[38;5;28mself\u001b[39m):\n\u001b[0;32m----> 8\u001b[0m     \u001b[38;5;28;01mreturn\u001b[39;00m \u001b[38;5;28;43mself\u001b[39;49m\u001b[38;5;241;43m.\u001b[39;49m\u001b[43mstudent_id\u001b[49m, \u001b[38;5;28mself\u001b[39m\u001b[38;5;241m.\u001b[39mphone_number, \u001b[38;5;28mself\u001b[39m\u001b[38;5;241m.\u001b[39memail_id\n",
      "\u001b[0;31mAttributeError\u001b[0m: 'pwskills2' object has no attribute 'student_id'"
     ]
    }
   ],
   "source": [
    "mon.return_student_details()"
   ]
  },
  {
   "cell_type": "code",
   "execution_count": 33,
   "id": "ad4a050e-229c-4f63-8520-4a7234150d83",
   "metadata": {},
   "outputs": [
    {
     "data": {
      "text/plain": [
       "(20, 7890521, 'mon@gmail.com')"
      ]
     },
     "execution_count": 33,
     "metadata": {},
     "output_type": "execute_result"
    }
   ],
   "source": [
    "mon.return_student_details()"
   ]
  },
  {
   "cell_type": "code",
   "execution_count": 45,
   "id": "bea5e563-54cd-451d-aa52-1a9ddfb1c86f",
   "metadata": {},
   "outputs": [],
   "source": [
    "class pwskills3 :\n",
    "    def __init__(moni, phone_number, email_id, student_id):\n",
    "        moni.phone_number1 = phone_number\n",
    "        moni.email_id1 = email_id\n",
    "        moni.student_id1 = student_id\n",
    "        \n",
    "    def return_student_details(moni):\n",
    "        return moni.student_id1, moni.phone_number1, moni.email_id1"
   ]
  },
  {
   "cell_type": "code",
   "execution_count": 46,
   "id": "cf4607d3-9b0b-4125-95e5-1d480c5a363a",
   "metadata": {},
   "outputs": [],
   "source": [
    "rohan = pwskills3(543217, \"rohan3@gmail.com\", 103)"
   ]
  },
  {
   "cell_type": "code",
   "execution_count": 47,
   "id": "1fa99495-9ada-454f-b038-db692277c11b",
   "metadata": {},
   "outputs": [
    {
     "data": {
      "text/plain": [
       "(103, 543217, 'rohan3@gmail.com')"
      ]
     },
     "execution_count": 47,
     "metadata": {},
     "output_type": "execute_result"
    }
   ],
   "source": [
    "rohan.return_student_details()"
   ]
  },
  {
   "cell_type": "code",
   "execution_count": null,
   "id": "e9eeb94f-3e21-4b47-89fd-0df6af40af77",
   "metadata": {},
   "outputs": [],
   "source": []
  }
 ],
 "metadata": {
  "kernelspec": {
   "display_name": "Python 3 (ipykernel)",
   "language": "python",
   "name": "python3"
  },
  "language_info": {
   "codemirror_mode": {
    "name": "ipython",
    "version": 3
   },
   "file_extension": ".py",
   "mimetype": "text/x-python",
   "name": "python",
   "nbconvert_exporter": "python",
   "pygments_lexer": "ipython3",
   "version": "3.10.8"
  }
 },
 "nbformat": 4,
 "nbformat_minor": 5
}
