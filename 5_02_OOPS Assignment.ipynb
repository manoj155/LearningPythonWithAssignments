{
 "cells": [
  {
   "cell_type": "code",
   "execution_count": 2,
   "id": "619c36ec-87a4-4d06-b9eb-e034a184c4a6",
   "metadata": {},
   "outputs": [],
   "source": [
    "# Q1. Explain Class and Object with respect to Object-Oriented Programming. Give a suitable example.\n",
    "# Q2. Name the four pillars of OOPs.\n",
    "# Q3. Explain why the __init__() function is used. Give a suitable example.\n",
    "# Q4. Why self is used in OOPs?\n",
    "# Q5. What is inheritance? Give an example for each type of inheritance."
   ]
  },
  {
   "cell_type": "code",
   "execution_count": 3,
   "id": "eeb4b87a-1e3a-4ed8-b5a3-86205753279b",
   "metadata": {},
   "outputs": [],
   "source": [
    "# A class is considered as a blueprint of objects. We can think of the class as a sketch (prototype) of a house. It contains all the details about the floors, doors, windows, etc. Based on these descriptions we build the house. House is the object."
   ]
  },
  {
   "cell_type": "code",
   "execution_count": 4,
   "id": "0f956bbe-227f-4aba-a173-38f30956c2d3",
   "metadata": {},
   "outputs": [],
   "source": [
    "class Car :\n",
    "    #definition of class\n",
    "    def __init__(self, name, top_spd) :\n",
    "        self.name = name\n",
    "        self.top_spd = top_spd\n",
    "    def return_details(self) :\n",
    "        return self.name, self.top_spd"
   ]
  },
  {
   "cell_type": "code",
   "execution_count": 13,
   "id": "5a714c98-4644-45ae-afd0-2c5b18df635d",
   "metadata": {},
   "outputs": [],
   "source": [
    "car1 = Car(\"Hennessey Venom F5\", \"485kmph\") # Car object1"
   ]
  },
  {
   "cell_type": "code",
   "execution_count": 14,
   "id": "8c9bcadb-2451-4661-a1ed-2648a59ed091",
   "metadata": {},
   "outputs": [
    {
     "data": {
      "text/plain": [
       "('Hennessey Venom F5', '485kmph')"
      ]
     },
     "execution_count": 14,
     "metadata": {},
     "output_type": "execute_result"
    }
   ],
   "source": [
    "car1.return_details()"
   ]
  },
  {
   "cell_type": "code",
   "execution_count": 15,
   "id": "2e26467d-d37e-48b4-9ab1-ea8cbd460b3b",
   "metadata": {},
   "outputs": [],
   "source": [
    "car2 = Car(\"Koenigsegg Jesko\", \"483kmph\") # Car object2"
   ]
  },
  {
   "cell_type": "code",
   "execution_count": 16,
   "id": "c95f3de4-9c0f-40c0-bd71-d13c46dfd9a4",
   "metadata": {},
   "outputs": [
    {
     "data": {
      "text/plain": [
       "('Koenigsegg Jesko', '483kmph')"
      ]
     },
     "execution_count": 16,
     "metadata": {},
     "output_type": "execute_result"
    }
   ],
   "source": [
    "car2.return_details()"
   ]
  },
  {
   "cell_type": "code",
   "execution_count": 1,
   "id": "7099b6c0-2d1b-469b-9288-1b5d067c9c50",
   "metadata": {},
   "outputs": [],
   "source": [
    "#Four pillars of OOPs are - Abstraction, Polymorphism, Inheritence"
   ]
  },
  {
   "cell_type": "code",
   "execution_count": 2,
   "id": "0eda1e2a-d872-467e-b189-1a593c41f61e",
   "metadata": {},
   "outputs": [],
   "source": [
    "# The __init__ function is called every time an object is created from a class. The __init__ method lets the class initialize the object's attributes and serves no other purpose. It is only used within classes."
   ]
  },
  {
   "cell_type": "code",
   "execution_count": 3,
   "id": "ac49a2f5-d082-405b-9538-48283da7b398",
   "metadata": {},
   "outputs": [
    {
     "name": "stdout",
     "output_type": "stream",
     "text": [
      "I ran first\n",
      "I ran second\n",
      "Name: Audi R8\n"
     ]
    }
   ],
   "source": [
    "class Car:\n",
    "    def __init__(self, name):\n",
    "        self.name = name\n",
    "        print(\"I ran first\")\n",
    " \n",
    "    def product(self):\n",
    "        print(\"I ran second\")\n",
    "        return (\"Name: \" + self.name)\n",
    " \n",
    " \n",
    "C = Car('Audi R8')\n",
    "print(C.product())"
   ]
  },
  {
   "cell_type": "code",
   "execution_count": null,
   "id": "78226f84-4113-403a-8fc7-40c35c6d816b",
   "metadata": {},
   "outputs": [],
   "source": [
    "#Q4. Why self is used in OOPs?\n",
    "\n",
    "# Ans: The self variable is used to represent the instance of the class"
   ]
  },
  {
   "cell_type": "code",
   "execution_count": null,
   "id": "57827bcf-c44d-4bde-9515-ff48e0d8a334",
   "metadata": {},
   "outputs": [],
   "source": [
    "# Q5. What is inheritance? Give an example for each type of inheritance.\n",
    "\n",
    "# Answer: Inheritance is a mechanism in object-oriented programming (OOP) that allows a class to inherit properties and \n",
    "#methods from another class, referred to as the base class or parent class. The class that inherits from the base class is \n",
    "#called the derived class or child class."
   ]
  },
  {
   "cell_type": "code",
   "execution_count": null,
   "id": "1ba11491-dc6e-485a-9c9e-197508450449",
   "metadata": {},
   "outputs": [],
   "source": []
  }
 ],
 "metadata": {
  "kernelspec": {
   "display_name": "Python 3 (ipykernel)",
   "language": "python",
   "name": "python3"
  },
  "language_info": {
   "codemirror_mode": {
    "name": "ipython",
    "version": 3
   },
   "file_extension": ".py",
   "mimetype": "text/x-python",
   "name": "python",
   "nbconvert_exporter": "python",
   "pygments_lexer": "ipython3",
   "version": "3.10.8"
  }
 },
 "nbformat": 4,
 "nbformat_minor": 5
}
