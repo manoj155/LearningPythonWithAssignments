{
 "cells": [
  {
   "cell_type": "code",
   "execution_count": 2,
   "id": "ce0eee70-3f60-43e1-8004-8899f678a536",
   "metadata": {},
   "outputs": [],
   "source": [
    "import abc\n",
    "class pwskills:\n",
    "    \n",
    "    @abc.abstractmethod\n",
    "    def student_details(self):\n",
    "        pass\n",
    "    \n",
    "    @abc.abstractmethod\n",
    "    def student_assignment(self):\n",
    "        pass\n",
    "    \n",
    "    @abc.abstractmethod\n",
    "    def student_marks(self):\n",
    "        pass"
   ]
  },
  {
   "cell_type": "code",
   "execution_count": 3,
   "id": "f55ff8d6-906f-4692-8000-93944c42c292",
   "metadata": {},
   "outputs": [],
   "source": [
    "class student_details(pwskills):\n",
    "    \n",
    "    def student_details(self):\n",
    "        return \"This is a meth for taking students details\"\n",
    "    \n",
    "    def student_assignment(self):\n",
    "        return \"This is a meth for assing details for a particular student\""
   ]
  },
  {
   "cell_type": "code",
   "execution_count": 4,
   "id": "e6947c93-82d8-4966-a0c7-da81ed072f42",
   "metadata": {},
   "outputs": [],
   "source": [
    "class data_science_masters(pwskills) :\n",
    "    \n",
    "    def student_details(self) :\n",
    "        return \"Student details for DSM\"\n",
    "    \n",
    "    def student_assignment(self) :\n",
    "        return \"DSM Stu Assign\""
   ]
  },
  {
   "cell_type": "code",
   "execution_count": 5,
   "id": "ade34b26-ea0e-4b98-a267-f39a7bf25dc3",
   "metadata": {},
   "outputs": [],
   "source": [
    "dsm = data_science_masters()"
   ]
  },
  {
   "cell_type": "code",
   "execution_count": 6,
   "id": "6beb6204-ce85-4666-bf94-f3fca91c242e",
   "metadata": {},
   "outputs": [
    {
     "data": {
      "text/plain": [
       "'Student details for DSM'"
      ]
     },
     "execution_count": 6,
     "metadata": {},
     "output_type": "execute_result"
    }
   ],
   "source": [
    "dsm.student_details()"
   ]
  },
  {
   "cell_type": "code",
   "execution_count": 7,
   "id": "c9d9d6f0-4ea5-40cd-b813-1054be31839f",
   "metadata": {},
   "outputs": [],
   "source": [
    "sd = student_details()"
   ]
  },
  {
   "cell_type": "code",
   "execution_count": 8,
   "id": "13433f8c-efaf-4438-a265-66289d5a9854",
   "metadata": {},
   "outputs": [
    {
     "data": {
      "text/plain": [
       "'This is a meth for taking students details'"
      ]
     },
     "execution_count": 8,
     "metadata": {},
     "output_type": "execute_result"
    }
   ],
   "source": [
    "sd.student_details()"
   ]
  },
  {
   "cell_type": "code",
   "execution_count": null,
   "id": "4865a210-67ad-4a67-815f-260ea15a27cb",
   "metadata": {},
   "outputs": [],
   "source": []
  }
 ],
 "metadata": {
  "kernelspec": {
   "display_name": "Python 3 (ipykernel)",
   "language": "python",
   "name": "python3"
  },
  "language_info": {
   "codemirror_mode": {
    "name": "ipython",
    "version": 3
   },
   "file_extension": ".py",
   "mimetype": "text/x-python",
   "name": "python",
   "nbconvert_exporter": "python",
   "pygments_lexer": "ipython3",
   "version": "3.10.8"
  }
 },
 "nbformat": 4,
 "nbformat_minor": 5
}
