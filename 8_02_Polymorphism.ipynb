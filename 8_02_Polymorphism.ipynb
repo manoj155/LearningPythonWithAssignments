{
 "cells": [
  {
   "cell_type": "code",
   "execution_count": 1,
   "id": "cbc44331-8ebb-4c11-86d6-c9de5476ca7f",
   "metadata": {},
   "outputs": [],
   "source": [
    "def test(a, b) :\n",
    "    return a+b"
   ]
  },
  {
   "cell_type": "code",
   "execution_count": 2,
   "id": "ef02a728-2efd-4b36-be00-6ab5cd5edf2c",
   "metadata": {},
   "outputs": [
    {
     "data": {
      "text/plain": [
       "7"
      ]
     },
     "execution_count": 2,
     "metadata": {},
     "output_type": "execute_result"
    }
   ],
   "source": [
    "test(3,4)"
   ]
  },
  {
   "cell_type": "code",
   "execution_count": 3,
   "id": "68a66f3c-577c-4ae5-9afb-84d23831db49",
   "metadata": {},
   "outputs": [
    {
     "data": {
      "text/plain": [
       "'Manoj Kumar'"
      ]
     },
     "execution_count": 3,
     "metadata": {},
     "output_type": "execute_result"
    }
   ],
   "source": [
    "test(\"Manoj\", \" Kumar\")"
   ]
  },
  {
   "cell_type": "code",
   "execution_count": 4,
   "id": "9e69f0ae-fabc-4dc6-a563-9acd7072a397",
   "metadata": {},
   "outputs": [
    {
     "data": {
      "text/plain": [
       "[1, 2, 3, 4, 5, 6, 7, 8, 9, 10]"
      ]
     },
     "execution_count": 4,
     "metadata": {},
     "output_type": "execute_result"
    }
   ],
   "source": [
    "test([1,2,3,4,5],[6,7,8,9,10])"
   ]
  },
  {
   "cell_type": "code",
   "execution_count": 5,
   "id": "6af3197d-9546-446e-9516-ae6693c1c0a8",
   "metadata": {},
   "outputs": [],
   "source": [
    "class data_science :\n",
    "    \n",
    "    def syllabus(self) :\n",
    "        print(\"This is my syllabus for DS class\")"
   ]
  },
  {
   "cell_type": "code",
   "execution_count": 6,
   "id": "6c327202-0ac1-4b12-bd3e-0e8e80cda50b",
   "metadata": {},
   "outputs": [],
   "source": [
    "class web_dev :\n",
    "    \n",
    "    def syllabus(self) :\n",
    "        print(\"This is my syllabus for WD class\")"
   ]
  },
  {
   "cell_type": "code",
   "execution_count": 7,
   "id": "2add188d-f06b-4701-85dd-4223b200417c",
   "metadata": {},
   "outputs": [],
   "source": [
    "def class_percer(class_obj) :\n",
    "    for i in class_obj :\n",
    "        i.syllabus()\n",
    "\n",
    "data_sc = data_science()\n",
    "web_d = web_dev()\n",
    "\n",
    "class_obj = [data_sc, web_d]"
   ]
  },
  {
   "cell_type": "code",
   "execution_count": 8,
   "id": "b83c8a3d-bbe5-40b1-9084-f770a2d7061c",
   "metadata": {},
   "outputs": [
    {
     "name": "stdout",
     "output_type": "stream",
     "text": [
      "This is my syllabus for DS class\n",
      "This is my syllabus for WD class\n"
     ]
    }
   ],
   "source": [
    "class_percer(class_obj)"
   ]
  },
  {
   "cell_type": "code",
   "execution_count": null,
   "id": "07d2e61e-005b-4ecc-a43f-240862d102d0",
   "metadata": {},
   "outputs": [],
   "source": []
  }
 ],
 "metadata": {
  "kernelspec": {
   "display_name": "Python 3 (ipykernel)",
   "language": "python",
   "name": "python3"
  },
  "language_info": {
   "codemirror_mode": {
    "name": "ipython",
    "version": 3
   },
   "file_extension": ".py",
   "mimetype": "text/x-python",
   "name": "python",
   "nbconvert_exporter": "python",
   "pygments_lexer": "ipython3",
   "version": "3.10.8"
  }
 },
 "nbformat": 4,
 "nbformat_minor": 5
}
