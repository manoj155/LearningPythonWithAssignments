{
 "cells": [
  {
   "cell_type": "code",
   "execution_count": 1,
   "id": "962fb6a1-063f-4658-bf53-afaabfa7e748",
   "metadata": {},
   "outputs": [],
   "source": [
    "#Q1. Explain with an example each when to use a for loop and a while loop."
   ]
  },
  {
   "cell_type": "code",
   "execution_count": 4,
   "id": "b806d9da-27cb-48da-8ec6-751b4a034ee2",
   "metadata": {},
   "outputs": [
    {
     "name": "stdout",
     "output_type": "stream",
     "text": [
      "Input list elements:\n",
      "10\n",
      "20\n",
      "30\n",
      "40\n",
      "50\n"
     ]
    }
   ],
   "source": [
    "'''for loop is used only when the number of iterations is known beforehand.'''\n",
    "# input list\n",
    "inputList = [10, 20, 30, 40, 50]\n",
    "print(\"Input list elements:\")\n",
    "# traversing through all elements of the list using for loop\n",
    "for element in inputList:\n",
    "   # printing each element of the list\n",
    "   print(element)"
   ]
  },
  {
   "cell_type": "code",
   "execution_count": 5,
   "id": "d4deef06-23ae-4698-8da1-165a252e66f0",
   "metadata": {},
   "outputs": [
    {
     "name": "stdout",
     "output_type": "stream",
     "text": [
      "1\n",
      "2\n",
      "3\n",
      "4\n",
      "5\n",
      "6\n",
      "7\n",
      "8\n",
      "9\n"
     ]
    }
   ],
   "source": [
    "'''while loop is used only when the number of iterations is not known beforehand.'''\n",
    "\n",
    "# Initializing a dummy variable with 1\n",
    "i = 1\n",
    "# Iterate until the given condition is true\n",
    "while i < 10:\n",
    "   # printing the current value of the above variable\n",
    "   print(i)\n",
    "   # incrementing the value of i value by 1\n",
    "   i += 1 "
   ]
  },
  {
   "cell_type": "code",
   "execution_count": 6,
   "id": "03eed5ee-2f8c-4fb6-b48a-022eaebe9c79",
   "metadata": {},
   "outputs": [],
   "source": [
    "#Q2. Write a python program to print the sum and product of the first 10 natural numbers using for and while loop."
   ]
  },
  {
   "cell_type": "code",
   "execution_count": 13,
   "id": "b2167237-d98e-4348-a5bc-97a446f3912d",
   "metadata": {},
   "outputs": [
    {
     "name": "stdout",
     "output_type": "stream",
     "text": [
      "55\n",
      "3628800\n"
     ]
    }
   ],
   "source": [
    "#using for loop\n",
    "sum1 = 0\n",
    "product = 1\n",
    "\n",
    "for i in range(1,11):\n",
    "    sum1 += i\n",
    "    product *= i\n",
    "\n",
    "print(sum1)\n",
    "print(product)"
   ]
  },
  {
   "cell_type": "code",
   "execution_count": 15,
   "id": "73b76cee-4aeb-4c71-a4b0-c269046fcdf0",
   "metadata": {},
   "outputs": [
    {
     "name": "stdout",
     "output_type": "stream",
     "text": [
      "55\n",
      "3628800\n"
     ]
    }
   ],
   "source": [
    "#using while loop\n",
    "sum1 = 0\n",
    "product = 1\n",
    "\n",
    "i = 1\n",
    "\n",
    "while i<=10:\n",
    "    sum1 += i\n",
    "    product *= i\n",
    "    i += 1\n",
    "\n",
    "print(sum1)\n",
    "print(product)"
   ]
  },
  {
   "cell_type": "code",
   "execution_count": 17,
   "id": "1bdc76f5-e456-4f74-b4a6-800b20eb8fe7",
   "metadata": {},
   "outputs": [
    {
     "data": {
      "text/plain": [
       "'Q3. Create a python program to compute the electricity bill for a household. The per-unit charges in rupees are as follows: For the first 100 units, the user will be charged Rs. 4.5 per unit, for the next 100 units, the user will be charged Rs. 6 per unit, and for the next 100 units, the user will\\nbe charged Rs. 10 per unit, After 300 units and above the user will be charged Rs. 20 per unit. You are required to take the units of electricity consumed in a month from the user as input.\\nYour program must pass this test case: when the unit of electricity consumed by the user in a month is 310, the total electricity bill should be 2250.'"
      ]
     },
     "execution_count": 17,
     "metadata": {},
     "output_type": "execute_result"
    }
   ],
   "source": [
    "\"\"\"Q3. Create a python program to compute the electricity bill for a household. The per-unit charges in rupees are as follows: For the first 100 units, the user will be charged Rs. 4.5 per unit, for the next 100 units, the user will be charged Rs. 6 per unit, and for the next 100 units, the user will\n",
    "be charged Rs. 10 per unit, After 300 units and above the user will be charged Rs. 20 per unit. You are required to take the units of electricity consumed in a month from the user as input.\n",
    "Your program must pass this test case: when the unit of electricity consumed by the user in a month is 310, the total electricity bill should be 2250.\"\"\""
   ]
  },
  {
   "cell_type": "code",
   "execution_count": 22,
   "id": "28b0b1d4-e0d8-4553-aac6-a9cd70b22726",
   "metadata": {},
   "outputs": [
    {
     "name": "stdin",
     "output_type": "stream",
     "text": [
      "The units of electricity consumed in a month 310\n"
     ]
    },
    {
     "name": "stdout",
     "output_type": "stream",
     "text": [
      "2250.0\n"
     ]
    }
   ],
   "source": [
    "i = int(input(\"The units of electricity consumed in a month\"))\n",
    "bill = 0\n",
    "\n",
    "while i!=0:\n",
    "    if i>300 :\n",
    "        bill += (i-300)*20\n",
    "        i = 300\n",
    "    elif i>200 :\n",
    "        bill += (i-200)*10\n",
    "        i = 200\n",
    "    elif i>100 :\n",
    "        bill += (i-100)*6\n",
    "        i = 100\n",
    "    else :\n",
    "        bill += i*4.5\n",
    "        i = 0\n",
    "\n",
    "print(bill)\n",
    "    "
   ]
  },
  {
   "cell_type": "code",
   "execution_count": 33,
   "id": "0462bf82-60e5-41c8-947d-57c61c275791",
   "metadata": {},
   "outputs": [
    {
     "data": {
      "text/plain": [
       "'Q4. Create a list of numbers from 1 to 100. Use for loop and while loop to calculate the cube of each number and if the cube of that number is divisible by 4 or 5 then append that number in a list and print that list.'"
      ]
     },
     "execution_count": 33,
     "metadata": {},
     "output_type": "execute_result"
    }
   ],
   "source": [
    "\"\"\"Q4. Create a list of numbers from 1 to 100. Use for loop and while loop to calculate the cube of each number and if the cube of that number is divisible by 4 or 5 then append that number in a list and print that list.\"\"\""
   ]
  },
  {
   "cell_type": "code",
   "execution_count": 42,
   "id": "1b686996-dca4-40b9-9f94-ae769361ebd6",
   "metadata": {},
   "outputs": [
    {
     "name": "stdout",
     "output_type": "stream",
     "text": [
      "[2, 4, 5, 6, 8, 10, 12, 14, 15, 16, 18, 20, 22, 24, 25, 26, 28, 30, 32, 34, 35, 36, 38, 40, 42, 44, 45, 46, 48, 50, 52, 54, 55, 56, 58, 60, 62, 64, 65, 66, 68, 70, 72, 74, 75, 76, 78, 80, 82, 84, 85, 86, 88, 90, 92, 94, 95, 96, 98, 100]\n"
     ]
    }
   ],
   "source": [
    "Div4or5 = []\n",
    "\n",
    "for i in range(1,101):\n",
    "    if(pow(i,3)%4==0 or pow(i,3)%5==0):\n",
    "        Div4or5.append(i)\n",
    "print(Div4or5)"
   ]
  },
  {
   "cell_type": "code",
   "execution_count": 44,
   "id": "65b26f76-113b-445b-9968-5e3e36c307d0",
   "metadata": {},
   "outputs": [
    {
     "data": {
      "text/plain": [
       "'Q5. Write a program to filter count vowels in the below-given string. string = \"I want to become a data scientist\"'"
      ]
     },
     "execution_count": 44,
     "metadata": {},
     "output_type": "execute_result"
    }
   ],
   "source": [
    "'''Q5. Write a program to filter count vowels in the below-given string. string = \"I want to become a data scientist\"'''"
   ]
  },
  {
   "cell_type": "code",
   "execution_count": 61,
   "id": "c0852169-591e-49d5-a94e-9e75ecd6fafe",
   "metadata": {},
   "outputs": [
    {
     "name": "stdout",
     "output_type": "stream",
     "text": [
      "0\n",
      "3\n",
      "8\n",
      "11\n",
      "13\n",
      "15\n",
      "17\n",
      "20\n",
      "22\n",
      "26\n",
      "27\n",
      "30\n",
      "12\n"
     ]
    }
   ],
   "source": [
    "count = 0\n",
    "\n",
    "str1 = \"I want to become a data scientist\"\n",
    "\n",
    "str2 = str1.lower()\n",
    "\n",
    "for i in range(0,len(str2)):\n",
    "    if(str2[i]=='a' or str2[i]=='e' or str2[i]=='i' or str2[i]=='o' or str2[i]=='u'):\n",
    "        count+=1\n",
    "        print(i)\n",
    "\n",
    "print(count)"
   ]
  },
  {
   "cell_type": "code",
   "execution_count": null,
   "id": "e291caa6-d1c3-4b85-b839-155a831cd49d",
   "metadata": {},
   "outputs": [],
   "source": []
  }
 ],
 "metadata": {
  "kernelspec": {
   "display_name": "Python 3 (ipykernel)",
   "language": "python",
   "name": "python3"
  },
  "language_info": {
   "codemirror_mode": {
    "name": "ipython",
    "version": 3
   },
   "file_extension": ".py",
   "mimetype": "text/x-python",
   "name": "python",
   "nbconvert_exporter": "python",
   "pygments_lexer": "ipython3",
   "version": "3.10.8"
  }
 },
 "nbformat": 4,
 "nbformat_minor": 5
}
