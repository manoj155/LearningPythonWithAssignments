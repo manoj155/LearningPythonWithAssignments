{
 "cells": [
  {
   "cell_type": "code",
   "execution_count": 1,
   "id": "630a27ea-6e69-4df8-94a8-da1db1f2275f",
   "metadata": {},
   "outputs": [
    {
     "name": "stdout",
     "output_type": "stream",
     "text": [
      "This is my print\n"
     ]
    }
   ],
   "source": [
    "print(\"This is my print\")"
   ]
  },
  {
   "cell_type": "code",
   "execution_count": 2,
   "id": "56275756-6b6d-48f9-b6e7-7f0aa9eac512",
   "metadata": {},
   "outputs": [],
   "source": [
    "l = [1,2,3,4]"
   ]
  },
  {
   "cell_type": "code",
   "execution_count": 3,
   "id": "a0f49172-6e4d-40b0-9431-2d24d2ac7794",
   "metadata": {},
   "outputs": [
    {
     "data": {
      "text/plain": [
       "4"
      ]
     },
     "execution_count": 3,
     "metadata": {},
     "output_type": "execute_result"
    }
   ],
   "source": [
    "len(l)"
   ]
  },
  {
   "cell_type": "code",
   "execution_count": 4,
   "id": "b0544a9a-7050-475f-8e40-39c56ca7760a",
   "metadata": {},
   "outputs": [
    {
     "data": {
      "text/plain": [
       "list"
      ]
     },
     "execution_count": 4,
     "metadata": {},
     "output_type": "execute_result"
    }
   ],
   "source": [
    "type(l)"
   ]
  },
  {
   "cell_type": "code",
   "execution_count": 5,
   "id": "1123a18c-a508-4867-8f35-30214404692b",
   "metadata": {},
   "outputs": [],
   "source": [
    "def test():\n",
    "    pass"
   ]
  },
  {
   "cell_type": "code",
   "execution_count": 6,
   "id": "0fb51d49-d179-4c74-baab-6aab0d2c8a19",
   "metadata": {},
   "outputs": [],
   "source": [
    "def test1():\n",
    "    print(\"This is my first function\")"
   ]
  },
  {
   "cell_type": "code",
   "execution_count": 7,
   "id": "4530cad3-84f9-4dde-ad18-e25a4f29bb8c",
   "metadata": {},
   "outputs": [
    {
     "name": "stdout",
     "output_type": "stream",
     "text": [
      "This is my first function\n"
     ]
    }
   ],
   "source": [
    "test1()"
   ]
  },
  {
   "cell_type": "code",
   "execution_count": 8,
   "id": "e273dc62-3f23-4f4d-85af-0a0c96e4b2fd",
   "metadata": {},
   "outputs": [],
   "source": [
    "def test2():\n",
    "    return \"This is my very first return.\""
   ]
  },
  {
   "cell_type": "code",
   "execution_count": 9,
   "id": "30f56ab0-718c-4fa2-a57a-c0daeb09e289",
   "metadata": {},
   "outputs": [
    {
     "data": {
      "text/plain": [
       "'This is my very first return.manoj'"
      ]
     },
     "execution_count": 9,
     "metadata": {},
     "output_type": "execute_result"
    }
   ],
   "source": [
    "test2() + \"manoj\""
   ]
  },
  {
   "cell_type": "code",
   "execution_count": 10,
   "id": "4eb825ce-e8c6-4eb5-b836-808d32c490cb",
   "metadata": {},
   "outputs": [],
   "source": [
    "def test3():\n",
    "    return \"manoj\", 32, 341.6, [12,23,3]"
   ]
  },
  {
   "cell_type": "code",
   "execution_count": 11,
   "id": "91b6e598-5518-4155-af9a-5a7e981121c7",
   "metadata": {},
   "outputs": [
    {
     "data": {
      "text/plain": [
       "('manoj', 32, 341.6, [12, 23, 3])"
      ]
     },
     "execution_count": 11,
     "metadata": {},
     "output_type": "execute_result"
    }
   ],
   "source": [
    "test3()"
   ]
  },
  {
   "cell_type": "code",
   "execution_count": 12,
   "id": "6d2b74fd-a312-46b8-a14e-a7df17ac9d00",
   "metadata": {},
   "outputs": [],
   "source": [
    "a, b, c, d = test3()"
   ]
  },
  {
   "cell_type": "code",
   "execution_count": 13,
   "id": "c9862025-e889-41ad-b0d5-745dff78ed1e",
   "metadata": {},
   "outputs": [
    {
     "name": "stdout",
     "output_type": "stream",
     "text": [
      "manoj 32 341.6 [12, 23, 3]\n"
     ]
    }
   ],
   "source": [
    "print(a,b,c,d)"
   ]
  },
  {
   "cell_type": "code",
   "execution_count": 14,
   "id": "3600cb8a-c6c8-43ee-b6d9-95dd49aedf21",
   "metadata": {},
   "outputs": [],
   "source": [
    "def test4():\n",
    "    a = 5*6/7\n",
    "    return a"
   ]
  },
  {
   "cell_type": "code",
   "execution_count": 15,
   "id": "2da610eb-8716-4049-9ed7-70ec52825d5f",
   "metadata": {},
   "outputs": [
    {
     "data": {
      "text/plain": [
       "4.285714285714286"
      ]
     },
     "execution_count": 15,
     "metadata": {},
     "output_type": "execute_result"
    }
   ],
   "source": [
    "test4()"
   ]
  },
  {
   "cell_type": "code",
   "execution_count": 16,
   "id": "d563a4a6-7d98-4ead-a99c-8f42634ed9c9",
   "metadata": {},
   "outputs": [],
   "source": [
    "def test5(a, b, c):\n",
    "    d = a+b/c\n",
    "    return d"
   ]
  },
  {
   "cell_type": "code",
   "execution_count": 17,
   "id": "687a1e4b-7862-4147-b8e0-9b97badba21a",
   "metadata": {},
   "outputs": [
    {
     "data": {
      "text/plain": [
       "2.625"
      ]
     },
     "execution_count": 17,
     "metadata": {},
     "output_type": "execute_result"
    }
   ],
   "source": [
    "test5(2,5,8)"
   ]
  },
  {
   "cell_type": "code",
   "execution_count": 18,
   "id": "96f7cf55-f546-46b5-9f56-be30de967932",
   "metadata": {},
   "outputs": [],
   "source": [
    "def test6(a,b):\n",
    "    return a+b"
   ]
  },
  {
   "cell_type": "code",
   "execution_count": 19,
   "id": "4e8977cb-002f-424a-a7c3-b7123cee4f36",
   "metadata": {},
   "outputs": [
    {
     "data": {
      "text/plain": [
       "7"
      ]
     },
     "execution_count": 19,
     "metadata": {},
     "output_type": "execute_result"
    }
   ],
   "source": [
    "test6(3,4)"
   ]
  },
  {
   "cell_type": "code",
   "execution_count": 20,
   "id": "9878aa4d-80bb-4608-b409-73b7b0a93f49",
   "metadata": {},
   "outputs": [
    {
     "data": {
      "text/plain": [
       "'manojkumar'"
      ]
     },
     "execution_count": 20,
     "metadata": {},
     "output_type": "execute_result"
    }
   ],
   "source": [
    "test6(\"manoj\",\"kumar\")"
   ]
  },
  {
   "cell_type": "code",
   "execution_count": 21,
   "id": "a3f76707-2953-403f-a5ed-11372aaf5136",
   "metadata": {},
   "outputs": [
    {
     "data": {
      "text/plain": [
       "[12, 3, 4, 8]"
      ]
     },
     "execution_count": 21,
     "metadata": {},
     "output_type": "execute_result"
    }
   ],
   "source": [
    "test6([12,3],[4,8])"
   ]
  },
  {
   "cell_type": "code",
   "execution_count": 31,
   "id": "0b63765a-e354-4f1a-b3a2-7d261290c76a",
   "metadata": {},
   "outputs": [],
   "source": [
    "l = [1,2,3,4,\"manoj\",[1,2,3,4,5]]"
   ]
  },
  {
   "cell_type": "code",
   "execution_count": 32,
   "id": "e5391c9f-af8d-43df-a6e8-fcc60d1a9099",
   "metadata": {},
   "outputs": [],
   "source": [
    "l1 = []\n",
    "for i in l:\n",
    "    if type(i)==int or type(i)==float:\n",
    "        l1.append(i)"
   ]
  },
  {
   "cell_type": "code",
   "execution_count": 33,
   "id": "b69f6ffe-9b10-43d4-af0e-90eef95aa4ef",
   "metadata": {},
   "outputs": [
    {
     "data": {
      "text/plain": [
       "[1, 2, 3, 4]"
      ]
     },
     "execution_count": 33,
     "metadata": {},
     "output_type": "execute_result"
    }
   ],
   "source": [
    "l1"
   ]
  },
  {
   "cell_type": "code",
   "execution_count": 34,
   "id": "8c966451-8b55-4965-bebf-c16c82fa1e2f",
   "metadata": {},
   "outputs": [],
   "source": [
    "def test7(l):\n",
    "    l1 = []\n",
    "    for i in l:\n",
    "        if type(i)==int or type(i)==float:\n",
    "            l1.append(i)\n",
    "    return l1"
   ]
  },
  {
   "cell_type": "code",
   "execution_count": 26,
   "id": "a2355cfc-d9aa-4184-a00c-507c42378a62",
   "metadata": {},
   "outputs": [
    {
     "data": {
      "text/plain": [
       "[1, 2, 3, 4]"
      ]
     },
     "execution_count": 26,
     "metadata": {},
     "output_type": "execute_result"
    }
   ],
   "source": [
    "test7(l)"
   ]
  },
  {
   "cell_type": "code",
   "execution_count": 38,
   "id": "d91df000-4102-4542-81c3-69657761e83b",
   "metadata": {
    "tags": []
   },
   "outputs": [],
   "source": [
    "def test8(a):\n",
    "    l2 = []\n",
    "    for i in a:\n",
    "        if type(i) == list:\n",
    "            for j in i :\n",
    "                l2.append(j)\n",
    "        else:\n",
    "            if type(i)==int or type(i)==float:\n",
    "                l2.append(i) \n",
    "    return l2"
   ]
  },
  {
   "cell_type": "code",
   "execution_count": 39,
   "id": "bf9cf7e7-aa3a-4fce-b6e9-4fc4c6b883f9",
   "metadata": {},
   "outputs": [
    {
     "data": {
      "text/plain": [
       "[1, 2, 3, 4, 1, 2, 3, 4, 5]"
      ]
     },
     "execution_count": 39,
     "metadata": {},
     "output_type": "execute_result"
    }
   ],
   "source": [
    "test8([1,2,3,4,\"manoj\",[1,2,3,4,5]])"
   ]
  },
  {
   "cell_type": "code",
   "execution_count": 40,
   "id": "56f1321b-14e6-4bff-8cb1-9ae463f58655",
   "metadata": {},
   "outputs": [],
   "source": [
    "def test10(a,b):\n",
    "    return a+b"
   ]
  },
  {
   "cell_type": "code",
   "execution_count": 45,
   "id": "4cb0664a-788d-42ee-b5a6-a0025342c3a5",
   "metadata": {},
   "outputs": [],
   "source": [
    "def test11(*args):  #instead of args you can write any name\n",
    "    return args"
   ]
  },
  {
   "cell_type": "code",
   "execution_count": 42,
   "id": "c132a133-c236-4b77-8f36-1181ee935269",
   "metadata": {},
   "outputs": [
    {
     "data": {
      "text/plain": [
       "tuple"
      ]
     },
     "execution_count": 42,
     "metadata": {},
     "output_type": "execute_result"
    }
   ],
   "source": [
    "type(test11())"
   ]
  },
  {
   "cell_type": "code",
   "execution_count": 43,
   "id": "7d6eb9da-48f1-4fa6-b365-a5786a3896f8",
   "metadata": {},
   "outputs": [
    {
     "data": {
      "text/plain": [
       "(1, 2, 3)"
      ]
     },
     "execution_count": 43,
     "metadata": {},
     "output_type": "execute_result"
    }
   ],
   "source": [
    "test11(1,2,3)"
   ]
  },
  {
   "cell_type": "code",
   "execution_count": 44,
   "id": "4d0b8c78-b2bd-454a-b4f0-4e55854baba4",
   "metadata": {},
   "outputs": [
    {
     "data": {
      "text/plain": [
       "(1, 2, 3, 'manoj', 'kumar', [1, 2, 3, 4])"
      ]
     },
     "execution_count": 44,
     "metadata": {},
     "output_type": "execute_result"
    }
   ],
   "source": [
    "test11(1,2,3,\"manoj\",\"kumar\",[1,2,3,4])"
   ]
  },
  {
   "cell_type": "code",
   "execution_count": 46,
   "id": "ce8a29e2-6668-4b28-9c31-9b64201a8f61",
   "metadata": {},
   "outputs": [
    {
     "ename": "SyntaxError",
     "evalue": "invalid syntax (3381337783.py, line 1)",
     "output_type": "error",
     "traceback": [
      "\u001b[0;36m  Cell \u001b[0;32mIn[46], line 1\u001b[0;36m\u001b[0m\n\u001b[0;31m    test13(*args, a):\u001b[0m\n\u001b[0m                    ^\u001b[0m\n\u001b[0;31mSyntaxError\u001b[0m\u001b[0;31m:\u001b[0m invalid syntax\n"
     ]
    }
   ],
   "source": [
    "test13(*args, a):\n",
    "    return args, a"
   ]
  },
  {
   "cell_type": "code",
   "execution_count": 47,
   "id": "bbcf1c53-4b2d-42aa-b680-bbf8cce9d63e",
   "metadata": {},
   "outputs": [],
   "source": [
    "def test14(c,d, a=23, b=1):\n",
    "    return a,b,c,d"
   ]
  },
  {
   "cell_type": "code",
   "execution_count": 48,
   "id": "4aaa68a2-5d0a-4d39-a076-bfdf3f16bf06",
   "metadata": {},
   "outputs": [
    {
     "data": {
      "text/plain": [
       "(23, 1, 3, 4)"
      ]
     },
     "execution_count": 48,
     "metadata": {},
     "output_type": "execute_result"
    }
   ],
   "source": [
    "test14(3,4)"
   ]
  },
  {
   "cell_type": "code",
   "execution_count": 49,
   "id": "da67ff9a-d111-4a02-bb56-bb41c55cf7eb",
   "metadata": {},
   "outputs": [
    {
     "data": {
      "text/plain": [
       "(300, 1, 2, 5)"
      ]
     },
     "execution_count": 49,
     "metadata": {},
     "output_type": "execute_result"
    }
   ],
   "source": [
    "test14(2,5, a=300)"
   ]
  },
  {
   "cell_type": "code",
   "execution_count": 51,
   "id": "0763e7f2-dd25-4f20-8737-a19d4e3ab0a8",
   "metadata": {},
   "outputs": [],
   "source": [
    "def test15(**kwargs):\n",
    "    return kwargs"
   ]
  },
  {
   "cell_type": "code",
   "execution_count": 52,
   "id": "0d0629f7-437d-4815-8a42-08728afdb96a",
   "metadata": {},
   "outputs": [
    {
     "data": {
      "text/plain": [
       "dict"
      ]
     },
     "execution_count": 52,
     "metadata": {},
     "output_type": "execute_result"
    }
   ],
   "source": [
    "type(test15())"
   ]
  },
  {
   "cell_type": "code",
   "execution_count": 53,
   "id": "465b4a95-e9b7-4f97-8727-eab2e0ea8cd7",
   "metadata": {},
   "outputs": [
    {
     "data": {
      "text/plain": [
       "{'a': [1, 2, 3, 4], 'b': 'manoj', 'c': 23.5}"
      ]
     },
     "execution_count": 53,
     "metadata": {},
     "output_type": "execute_result"
    }
   ],
   "source": [
    "test15(a = [1,2,3,4], b = \"manoj\", c= 23.5)"
   ]
  },
  {
   "cell_type": "code",
   "execution_count": null,
   "id": "96bc8a4d-937c-48f6-ae87-b59ecf78dd29",
   "metadata": {},
   "outputs": [],
   "source": []
  }
 ],
 "metadata": {
  "kernelspec": {
   "display_name": "Python 3 (ipykernel)",
   "language": "python",
   "name": "python3"
  },
  "language_info": {
   "codemirror_mode": {
    "name": "ipython",
    "version": 3
   },
   "file_extension": ".py",
   "mimetype": "text/x-python",
   "name": "python",
   "nbconvert_exporter": "python",
   "pygments_lexer": "ipython3",
   "version": "3.10.8"
  }
 },
 "nbformat": 4,
 "nbformat_minor": 5
}
