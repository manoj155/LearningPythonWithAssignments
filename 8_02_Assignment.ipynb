{
 "cells": [
  {
   "cell_type": "code",
   "execution_count": 1,
   "id": "754215e8-63c0-416f-bc9a-8619d59c029a",
   "metadata": {},
   "outputs": [],
   "source": [
    "# Q1. What is Abstraction in OOps? Explain with an example.\n",
    "# Q2. Differentiate between Abstraction and Encapsulation. Explain with an example.\n",
    "# Q3. What is abc module in python? Why is it used?\n",
    "# Q4. How can we achieve data abstraction?\n",
    "# Q5. Can we create an instance of an abstract class? Explain your answer."
   ]
  },
  {
   "cell_type": "code",
   "execution_count": 3,
   "id": "665b3ce7-0bdb-439a-b17e-839f14d53a1d",
   "metadata": {},
   "outputs": [
    {
     "name": "stdout",
     "output_type": "stream",
     "text": [
      "78.5\n",
      "50\n"
     ]
    }
   ],
   "source": [
    "# Q1. What is Abstraction in OOps? Explain with an example.\n",
    "\n",
    "# Answer: Abstraction is one of the fundamental principles of Object-Oriented Programming (OOPs). It refers to the process of \n",
    "# hiding the implementation details of an object and exposing only the necessary features to the user. Abstraction helps to \n",
    "# simplify complex systems by providing a simple interface for the user to interact with.\n",
    "\n",
    "from abc import ABC, abstractmethod\n",
    "\n",
    "class Shape(ABC):\n",
    "    @abstractmethod\n",
    "    def calculate_area(self):\n",
    "        pass\n",
    "\n",
    "class Circle(Shape):\n",
    "    def __init__(self, radius):\n",
    "        self.radius = radius\n",
    "\n",
    "    def calculate_area(self):\n",
    "        return 3.14 * self.radius ** 2\n",
    "\n",
    "class Rectangle(Shape):\n",
    "    def __init__(self, length, width):\n",
    "        self.length = length\n",
    "        self.width = width\n",
    "\n",
    "    def calculate_area(self):\n",
    "        return self.length * self.width\n",
    "\n",
    "c = Circle(5)\n",
    "print(c.calculate_area())\n",
    "\n",
    "r = Rectangle(5, 10)\n",
    "print(r.calculate_area())\n",
    "\n",
    "# In this example, the Shape class is an abstract class that defines an abstract method called calculate_area(). This method \n",
    "# must be implemented by any concrete class that inherits from the Shape class.\n",
    "\n",
    "# The Circle and Rectangle classes are concrete classes that inherit from the Shape class and implement the calculate_area() \n",
    "# method. These classes provide their own implementation of the method based on their specific shape.\n",
    "\n",
    "# When we create an instance of the Circle or Rectangle class and call the calculate_area() method, we get the area of the \n",
    "# shape based on the specific implementation provided by each class.\n",
    "\n",
    "# Note that if we try to create an instance of the Shape class directly, we will get a TypeError since it is an abstract class \n",
    "# and cannot be instantiated."
   ]
  },
  {
   "cell_type": "code",
   "execution_count": 4,
   "id": "10216c24-05a2-477e-ac3e-d41dfb3b1b11",
   "metadata": {},
   "outputs": [],
   "source": [
    "# Q2. Differentiate between Abstraction and Encapsulation. Explain with an example.\n",
    "\n",
    "# Abstraction is a mechanism that focuses on hiding the implementation details of a class and only revealing essential \n",
    "# information to the user. It is the process of identifying the essential features of an object or system, and ignoring the \n",
    "# irrelevant ones. In simpler terms, abstraction helps to simplify complex systems by focusing on the most important aspects.\n",
    "\n",
    "# Encapsulation, on the other hand, is a mechanism that restricts direct access to an object's data and methods from the \n",
    "# outside world, and instead, provides a well-defined interface for interaction. It is the process of binding data and code \n",
    "# together in a single unit, and controlling access to that unit to ensure that data is manipulated only in a controlled way."
   ]
  },
  {
   "cell_type": "code",
   "execution_count": 5,
   "id": "e500d238-46ce-4785-8187-32782314c732",
   "metadata": {},
   "outputs": [],
   "source": [
    "# Q3. What is abc module in python? Why is it used?\n",
    "\n",
    "# The abc module in Python stands for Abstract Base Classes. It is used to define abstract base classes that provide a way \n",
    "# to specify a minimal set of methods that must be implemented by concrete classes that inherit from them."
   ]
  },
  {
   "cell_type": "code",
   "execution_count": 6,
   "id": "37b3f89c-50da-4901-af9f-d4bfbc42318f",
   "metadata": {},
   "outputs": [],
   "source": [
    "# Q4. How can we achieve data abstraction?\n",
    "\n",
    "# Already answered"
   ]
  },
  {
   "cell_type": "code",
   "execution_count": null,
   "id": "65e6f9ad-9268-4657-bb16-da4247830681",
   "metadata": {},
   "outputs": [],
   "source": [
    "# Q5. Can we create an instance of an abstract class? Explain your answer.\n",
    "\n",
    "# Already an"
   ]
  }
 ],
 "metadata": {
  "kernelspec": {
   "display_name": "Python 3 (ipykernel)",
   "language": "python",
   "name": "python3"
  },
  "language_info": {
   "codemirror_mode": {
    "name": "ipython",
    "version": 3
   },
   "file_extension": ".py",
   "mimetype": "text/x-python",
   "name": "python",
   "nbconvert_exporter": "python",
   "pygments_lexer": "ipython3",
   "version": "3.10.8"
  }
 },
 "nbformat": 4,
 "nbformat_minor": 5
}
