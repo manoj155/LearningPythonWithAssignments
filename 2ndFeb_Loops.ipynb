{
 "cells": [
  {
   "cell_type": "code",
   "execution_count": 1,
   "id": "70b873b4-0d30-4b46-ac7a-98cf8e139576",
   "metadata": {},
   "outputs": [],
   "source": [
    "l = [1,2,3,4,5]"
   ]
  },
  {
   "cell_type": "code",
   "execution_count": 3,
   "id": "63aecbf0-ca30-46c4-88a2-7b25e75952f6",
   "metadata": {},
   "outputs": [
    {
     "name": "stdout",
     "output_type": "stream",
     "text": [
      "1 <class 'int'>\n",
      "2 <class 'int'>\n",
      "3 <class 'int'>\n",
      "4 <class 'int'>\n",
      "5 <class 'int'>\n"
     ]
    }
   ],
   "source": [
    "for i in l:\n",
    "    print(i, type(i))"
   ]
  },
  {
   "cell_type": "code",
   "execution_count": 4,
   "id": "36454a5b-4efc-4648-b4d0-1e3b4e35ec15",
   "metadata": {},
   "outputs": [],
   "source": [
    "l1 = [\"Manoj\", \"Kumar\", \"Baishya\"]"
   ]
  },
  {
   "cell_type": "code",
   "execution_count": 5,
   "id": "98321c92-7b4b-4679-a6a2-62e0bac69473",
   "metadata": {},
   "outputs": [
    {
     "name": "stdout",
     "output_type": "stream",
     "text": [
      "Manoj\n",
      "Kumar\n",
      "Baishya\n"
     ]
    }
   ],
   "source": [
    "for i in l1:\n",
    "    print(i)"
   ]
  },
  {
   "cell_type": "code",
   "execution_count": 7,
   "id": "ab55252a-f008-47e5-a4db-610252ea3bde",
   "metadata": {},
   "outputs": [
    {
     "name": "stdout",
     "output_type": "stream",
     "text": [
      "Manoj\n",
      "Kumar\n",
      "Baishya\n",
      "If for loop is able to complete itself then only else will execute\n"
     ]
    }
   ],
   "source": [
    "for i in l1 :\n",
    "    print(i)\n",
    "else:\n",
    "    print(\"If for loop is able to complete itself then only else will execute\")"
   ]
  },
  {
   "cell_type": "code",
   "execution_count": 9,
   "id": "53cbb27d-28f2-4ec9-ade4-0da653523cb0",
   "metadata": {},
   "outputs": [
    {
     "name": "stdout",
     "output_type": "stream",
     "text": [
      "Manoj\n"
     ]
    }
   ],
   "source": [
    "for i in l1:\n",
    "    if i==\"Kumar\":\n",
    "        break\n",
    "    print(i)"
   ]
  },
  {
   "cell_type": "code",
   "execution_count": 11,
   "id": "21f18d67-f350-4904-8c8e-ce9ed74b2ff2",
   "metadata": {},
   "outputs": [
    {
     "name": "stdout",
     "output_type": "stream",
     "text": [
      "Manoj\n",
      "Baishya\n",
      "execute this if for loop is able to complete itself\n"
     ]
    }
   ],
   "source": [
    "for i in l1:\n",
    "    if i == \"Kumar\":\n",
    "        continue\n",
    "    print(i)\n",
    "else:\n",
    "    print(\"execute this if for loop is able to complete itself\")\n",
    "    "
   ]
  },
  {
   "cell_type": "code",
   "execution_count": 12,
   "id": "6fa74386-6fcb-4425-84e6-4ffcb77f93c1",
   "metadata": {},
   "outputs": [
    {
     "data": {
      "text/plain": [
       "range(0, 5)"
      ]
     },
     "execution_count": 12,
     "metadata": {},
     "output_type": "execute_result"
    }
   ],
   "source": [
    "range(5)"
   ]
  },
  {
   "cell_type": "code",
   "execution_count": 13,
   "id": "16b009a3-04a2-40b4-8cdc-e2d5fbac168b",
   "metadata": {},
   "outputs": [
    {
     "data": {
      "text/plain": [
       "[0, 1, 2, 3, 4]"
      ]
     },
     "execution_count": 13,
     "metadata": {},
     "output_type": "execute_result"
    }
   ],
   "source": [
    "list(range(0,5))"
   ]
  },
  {
   "cell_type": "code",
   "execution_count": 14,
   "id": "144af8dc-7c02-42d1-9f9d-208b74a3cd86",
   "metadata": {},
   "outputs": [
    {
     "data": {
      "text/plain": [
       "[0, 2, 4, 6, 8, 10, 12, 14, 16, 18]"
      ]
     },
     "execution_count": 14,
     "metadata": {},
     "output_type": "execute_result"
    }
   ],
   "source": [
    "list(range(0,20,2))"
   ]
  },
  {
   "cell_type": "code",
   "execution_count": 15,
   "id": "fbd1fdad-66b0-492f-b99e-a5106f48dfeb",
   "metadata": {},
   "outputs": [
    {
     "data": {
      "text/plain": [
       "[-10, -9, -8, -7, -6, -5, -4, -3, -2, -1]"
      ]
     },
     "execution_count": 15,
     "metadata": {},
     "output_type": "execute_result"
    }
   ],
   "source": [
    "list(range(-10,0))"
   ]
  },
  {
   "cell_type": "code",
   "execution_count": 16,
   "id": "b5692323-5098-4b2e-9619-232a12fabf42",
   "metadata": {},
   "outputs": [
    {
     "data": {
      "text/plain": [
       "['Manoj', 'Kumar', 'Baishya']"
      ]
     },
     "execution_count": 16,
     "metadata": {},
     "output_type": "execute_result"
    }
   ],
   "source": [
    "l1"
   ]
  },
  {
   "cell_type": "code",
   "execution_count": 17,
   "id": "518118b5-8111-433f-a757-aadc6624c25e",
   "metadata": {},
   "outputs": [
    {
     "data": {
      "text/plain": [
       "[0, 1, 2]"
      ]
     },
     "execution_count": 17,
     "metadata": {},
     "output_type": "execute_result"
    }
   ],
   "source": [
    "list(range(len(l1)))"
   ]
  },
  {
   "cell_type": "code",
   "execution_count": 18,
   "id": "2016a57b-4d87-4d27-8f49-7270fa41c327",
   "metadata": {},
   "outputs": [
    {
     "name": "stdout",
     "output_type": "stream",
     "text": [
      "Manoj\n",
      "Kumar\n",
      "Baishya\n"
     ]
    }
   ],
   "source": [
    "for i in range(len(l1)):\n",
    "    print(l1[i])"
   ]
  },
  {
   "cell_type": "code",
   "execution_count": 23,
   "id": "4fdcda56-b426-4fba-89d8-f6ae64b471d4",
   "metadata": {},
   "outputs": [
    {
     "name": "stdout",
     "output_type": "stream",
     "text": [
      "Baishya\n",
      "Kumar\n",
      "Manoj\n"
     ]
    }
   ],
   "source": [
    "#accessing the list in reverse order\n",
    "\n",
    "for i in range(len(l1)-1,-1,-1):\n",
    "    print(l1[i])"
   ]
  },
  {
   "cell_type": "code",
   "execution_count": 24,
   "id": "5c5be4ad-99d0-454d-b431-a96bea7f5a36",
   "metadata": {},
   "outputs": [],
   "source": [
    "# find the even index values"
   ]
  },
  {
   "cell_type": "code",
   "execution_count": 25,
   "id": "59fec2d8-c7e0-4107-9bfe-132d96dff32f",
   "metadata": {},
   "outputs": [],
   "source": [
    "l2 = [23,5,45,56,6,67,67,78,87,8998,9,9,8]"
   ]
  },
  {
   "cell_type": "code",
   "execution_count": 26,
   "id": "79555c90-91c8-4a95-8742-1dc30aa685c1",
   "metadata": {},
   "outputs": [
    {
     "data": {
      "text/plain": [
       "[0, 2, 4, 6, 8, 10, 12]"
      ]
     },
     "execution_count": 26,
     "metadata": {},
     "output_type": "execute_result"
    }
   ],
   "source": [
    "list(range(0, len(l2), 2))"
   ]
  },
  {
   "cell_type": "code",
   "execution_count": 28,
   "id": "c1b987da-cc27-44ca-bd31-a08299c0afa4",
   "metadata": {},
   "outputs": [
    {
     "name": "stdout",
     "output_type": "stream",
     "text": [
      "23\n",
      "45\n",
      "6\n",
      "67\n",
      "87\n",
      "9\n",
      "8\n"
     ]
    }
   ],
   "source": [
    "for i in range(0, len(l2), 2):\n",
    "    print(l2[i])"
   ]
  },
  {
   "cell_type": "code",
   "execution_count": 30,
   "id": "4edd70a1-a68f-460c-b9a1-b05b3de6f4eb",
   "metadata": {},
   "outputs": [],
   "source": [
    "# add all the elements of the list"
   ]
  },
  {
   "cell_type": "code",
   "execution_count": 31,
   "id": "d955e64f-ffb9-402d-9b30-297cdf10bd6a",
   "metadata": {},
   "outputs": [],
   "source": [
    "l = [1,2,3,4,7,8,98]"
   ]
  },
  {
   "cell_type": "code",
   "execution_count": 32,
   "id": "db0a5342-6519-4066-b0ed-030790e88bb9",
   "metadata": {},
   "outputs": [
    {
     "data": {
      "text/plain": [
       "123"
      ]
     },
     "execution_count": 32,
     "metadata": {},
     "output_type": "execute_result"
    }
   ],
   "source": [
    "sum(l)"
   ]
  },
  {
   "cell_type": "code",
   "execution_count": 34,
   "id": "434fd342-2b11-4e3e-bbfd-90db0cf1c8ce",
   "metadata": {},
   "outputs": [
    {
     "name": "stdout",
     "output_type": "stream",
     "text": [
      "123\n"
     ]
    }
   ],
   "source": [
    "result = 0\n",
    "\n",
    "for i in l:\n",
    "    result = result + i\n",
    "    \n",
    "print(result)"
   ]
  },
  {
   "cell_type": "code",
   "execution_count": 37,
   "id": "24c8b751-ac60-4fde-844c-7bf252e5dec9",
   "metadata": {},
   "outputs": [],
   "source": [
    "l = (1,2,3,4,7,8,98)"
   ]
  },
  {
   "cell_type": "code",
   "execution_count": 38,
   "id": "10fb363e-56f6-4b81-b3ec-45bd9c564ac2",
   "metadata": {},
   "outputs": [
    {
     "name": "stdout",
     "output_type": "stream",
     "text": [
      "123\n"
     ]
    }
   ],
   "source": [
    "result = 0\n",
    "\n",
    "for i in l:\n",
    "    result = result + i\n",
    "    \n",
    "print(result)"
   ]
  },
  {
   "cell_type": "code",
   "execution_count": 39,
   "id": "c4d4f8fc-4810-4e27-8d6b-7ec5e01c9a5c",
   "metadata": {},
   "outputs": [],
   "source": [
    "s = \"manojkumarbaishya\""
   ]
  },
  {
   "cell_type": "code",
   "execution_count": 40,
   "id": "642a3f71-eaee-4fb9-8988-76bfcfcebed1",
   "metadata": {},
   "outputs": [
    {
     "name": "stdout",
     "output_type": "stream",
     "text": [
      "m\n",
      "a\n",
      "n\n",
      "o\n",
      "j\n",
      "k\n",
      "u\n",
      "m\n",
      "a\n",
      "r\n",
      "b\n",
      "a\n",
      "i\n",
      "s\n",
      "h\n",
      "y\n",
      "a\n"
     ]
    }
   ],
   "source": [
    "for i in s:\n",
    "    print(i)"
   ]
  },
  {
   "cell_type": "code",
   "execution_count": 41,
   "id": "30e4e023-6886-42ac-8e13-8bf10bf8ef22",
   "metadata": {},
   "outputs": [],
   "source": [
    "d = {\"name\": \"manoj\", \"class\":\"pythonlearning\", \"topic\": [\"python\",\"stats\",\"machine learning\", \"DeepLearning\"]}"
   ]
  },
  {
   "cell_type": "code",
   "execution_count": 44,
   "id": "0d6b280e-695e-4434-a77a-a428d387a687",
   "metadata": {},
   "outputs": [
    {
     "data": {
      "text/plain": [
       "['name', 'class', 'topic']"
      ]
     },
     "execution_count": 44,
     "metadata": {},
     "output_type": "execute_result"
    }
   ],
   "source": [
    "list(d.keys())"
   ]
  },
  {
   "cell_type": "code",
   "execution_count": 45,
   "id": "4e15bb1b-5965-411a-a824-00cc66bafaad",
   "metadata": {},
   "outputs": [
    {
     "name": "stdout",
     "output_type": "stream",
     "text": [
      "manoj\n",
      "pythonlearning\n",
      "['python', 'stats', 'machine learning', 'DeepLearning']\n"
     ]
    }
   ],
   "source": [
    "for i in d.keys():\n",
    "    print(d[i])"
   ]
  },
  {
   "cell_type": "code",
   "execution_count": 46,
   "id": "9d8fd3d3-9dae-4e81-8911-990a90c0ec31",
   "metadata": {},
   "outputs": [
    {
     "name": "stdout",
     "output_type": "stream",
     "text": [
      "manoj\n",
      "pythonlearning\n",
      "['python', 'stats', 'machine learning', 'DeepLearning']\n"
     ]
    }
   ],
   "source": [
    "for i in d.values():\n",
    "    print(i)"
   ]
  },
  {
   "cell_type": "code",
   "execution_count": 47,
   "id": "7d061087-d9c9-4601-9c83-62aece023925",
   "metadata": {},
   "outputs": [
    {
     "data": {
      "text/plain": [
       "dict_items([('name', 'manoj'), ('class', 'pythonlearning'), ('topic', ['python', 'stats', 'machine learning', 'DeepLearning'])])"
      ]
     },
     "execution_count": 47,
     "metadata": {},
     "output_type": "execute_result"
    }
   ],
   "source": [
    "d.items()"
   ]
  },
  {
   "cell_type": "code",
   "execution_count": 48,
   "id": "426a8b46-e913-4d77-8f8c-c71f21b06a3f",
   "metadata": {},
   "outputs": [
    {
     "name": "stdout",
     "output_type": "stream",
     "text": [
      "('name', 'manoj')\n",
      "('class', 'pythonlearning')\n",
      "('topic', ['python', 'stats', 'machine learning', 'DeepLearning'])\n"
     ]
    }
   ],
   "source": [
    "for i in d.items():\n",
    "    print(i)"
   ]
  },
  {
   "cell_type": "code",
   "execution_count": null,
   "id": "5cc4db8b-854c-46c7-8ada-436b3f638262",
   "metadata": {},
   "outputs": [],
   "source": []
  }
 ],
 "metadata": {
  "kernelspec": {
   "display_name": "Python 3 (ipykernel)",
   "language": "python",
   "name": "python3"
  },
  "language_info": {
   "codemirror_mode": {
    "name": "ipython",
    "version": 3
   },
   "file_extension": ".py",
   "mimetype": "text/x-python",
   "name": "python",
   "nbconvert_exporter": "python",
   "pygments_lexer": "ipython3",
   "version": "3.10.8"
  }
 },
 "nbformat": 4,
 "nbformat_minor": 5
}
