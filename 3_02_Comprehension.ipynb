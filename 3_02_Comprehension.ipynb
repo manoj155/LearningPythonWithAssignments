{
 "cells": [
  {
   "cell_type": "code",
   "execution_count": 1,
   "id": "88db7580-9b01-45d1-aee7-ca82b6af491c",
   "metadata": {},
   "outputs": [
    {
     "name": "stdout",
     "output_type": "stream",
     "text": [
      "[1, 4, 9, 16, 2025, 25]\n"
     ]
    }
   ],
   "source": [
    "l = [1,2,3,4,45,5]\n",
    "\n",
    "l1 = []\n",
    "\n",
    "for i in l:\n",
    "    l1.append(pow(i,2))\n",
    "    \n",
    "print(l1)"
   ]
  },
  {
   "cell_type": "code",
   "execution_count": 2,
   "id": "e40d803d-96aa-4d3f-a923-81f9e48afefd",
   "metadata": {},
   "outputs": [
    {
     "data": {
      "text/plain": [
       "[1, 4, 9, 16, 2025, 25]"
      ]
     },
     "execution_count": 2,
     "metadata": {},
     "output_type": "execute_result"
    }
   ],
   "source": [
    "[i**2 for i in l]"
   ]
  },
  {
   "cell_type": "code",
   "execution_count": 3,
   "id": "a36bb8b2-299f-4f49-b104-7c356a15eff9",
   "metadata": {},
   "outputs": [
    {
     "data": {
      "text/plain": [
       "[2, 4]"
      ]
     },
     "execution_count": 3,
     "metadata": {},
     "output_type": "execute_result"
    }
   ],
   "source": [
    "[i for i in l if i%2==0]"
   ]
  },
  {
   "cell_type": "code",
   "execution_count": 4,
   "id": "c257cacf-a55d-480f-b7b9-4e73c6bcadff",
   "metadata": {},
   "outputs": [],
   "source": [
    "l1 = [\"Manoj\", \"pwskills\", \"kumar\", \"datascince master\"]"
   ]
  },
  {
   "cell_type": "code",
   "execution_count": 5,
   "id": "16325c5b-a1e1-431c-a770-d72764d7e9d7",
   "metadata": {},
   "outputs": [
    {
     "data": {
      "text/plain": [
       "['MANOJ', 'PWSKILLS', 'KUMAR', 'DATASCINCE MASTER']"
      ]
     },
     "execution_count": 5,
     "metadata": {},
     "output_type": "execute_result"
    }
   ],
   "source": [
    "[i.upper() for i in l1]"
   ]
  },
  {
   "cell_type": "code",
   "execution_count": 6,
   "id": "6ed30734-3e43-424e-8921-7b8a3a87dac1",
   "metadata": {},
   "outputs": [
    {
     "data": {
      "text/plain": [
       "[1, 2, 3, 4, 45, 5]"
      ]
     },
     "execution_count": 6,
     "metadata": {},
     "output_type": "execute_result"
    }
   ],
   "source": [
    "l"
   ]
  },
  {
   "cell_type": "code",
   "execution_count": 8,
   "id": "f4ae67d0-b467-4ee3-a7eb-b5cca0ab0528",
   "metadata": {},
   "outputs": [
    {
     "data": {
      "text/plain": [
       "[1, 4, 9, 16, 2025, 25]"
      ]
     },
     "execution_count": 8,
     "metadata": {},
     "output_type": "execute_result"
    }
   ],
   "source": [
    "list(i**2 for i in l)"
   ]
  },
  {
   "cell_type": "code",
   "execution_count": 9,
   "id": "646f2cbc-2ced-4652-9daa-87bcf7b2abf0",
   "metadata": {},
   "outputs": [],
   "source": [
    "d = {\"key1\": 1, \"key2\": 2, \"key3\": 4, \"key4\": 4}"
   ]
  },
  {
   "cell_type": "code",
   "execution_count": 10,
   "id": "97237543-a9b5-4bef-aad4-a463eadc3db2",
   "metadata": {},
   "outputs": [
    {
     "data": {
      "text/plain": [
       "[1, 4, 16, 16]"
      ]
     },
     "execution_count": 10,
     "metadata": {},
     "output_type": "execute_result"
    }
   ],
   "source": [
    "[i**2 for i in d.values()]"
   ]
  },
  {
   "cell_type": "code",
   "execution_count": 15,
   "id": "f7959dac-80a5-428c-81e0-59dd9649cb01",
   "metadata": {},
   "outputs": [
    {
     "data": {
      "text/plain": [
       "{'key2': 2, 'key3': 4, 'key4': 4}"
      ]
     },
     "execution_count": 15,
     "metadata": {},
     "output_type": "execute_result"
    }
   ],
   "source": [
    "{k:v for k,v in d.items() if v>1}"
   ]
  },
  {
   "cell_type": "code",
   "execution_count": null,
   "id": "77c803fc-18c0-47a4-8e24-6c08448b4931",
   "metadata": {},
   "outputs": [],
   "source": []
  }
 ],
 "metadata": {
  "kernelspec": {
   "display_name": "Python 3 (ipykernel)",
   "language": "python",
   "name": "python3"
  },
  "language_info": {
   "codemirror_mode": {
    "name": "ipython",
    "version": 3
   },
   "file_extension": ".py",
   "mimetype": "text/x-python",
   "name": "python",
   "nbconvert_exporter": "python",
   "pygments_lexer": "ipython3",
   "version": "3.10.8"
  }
 },
 "nbformat": 4,
 "nbformat_minor": 5
}
